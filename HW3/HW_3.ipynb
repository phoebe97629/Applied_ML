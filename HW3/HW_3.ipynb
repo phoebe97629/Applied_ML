{
 "cells": [
  {
   "cell_type": "code",
   "execution_count": 202,
   "id": "c739f6c8",
   "metadata": {},
   "outputs": [],
   "source": [
    "import os\n",
    "import numpy as np\n",
    "import pandas as pd\n",
    "from gensim import models, similarities\n",
    "from gensim.corpora.dictionary import Dictionary\n",
    "import gzip\n",
    "import json\n"
   ]
  },
  {
   "cell_type": "code",
   "execution_count": 203,
   "id": "d370b6a5",
   "metadata": {},
   "outputs": [],
   "source": [
    "import json\n",
    "\n",
    "def parse(path):\n",
    "    g = gzip.open(path, 'rb')\n",
    "    for l in g:\n",
    "        yield json.loads(l)"
   ]
  },
  {
   "cell_type": "markdown",
   "id": "5af78378",
   "metadata": {},
   "source": [
    "### due to the humongus dataset size, I decided to downsample the dataset into 500,000 reviews."
   ]
  },
  {
   "cell_type": "code",
   "execution_count": 204,
   "id": "05970c38",
   "metadata": {},
   "outputs": [],
   "source": [
    "def getDF(path): \n",
    "    i = 0\n",
    "    df = {}\n",
    "    for d in parse(path):\n",
    "        df[i] = d\n",
    "        i += 1\n",
    "        if (i ==500000):\n",
    "            break\n",
    "        \n",
    "    return pd.DataFrame.from_dict(df, orient = 'index')"
   ]
  },
  {
   "cell_type": "code",
   "execution_count": 205,
   "id": "7c0869ed",
   "metadata": {},
   "outputs": [],
   "source": [
    "df = getDF(\"Home_and_Kitchen.json.gz\")"
   ]
  },
  {
   "cell_type": "code",
   "execution_count": 206,
   "id": "093d00b9",
   "metadata": {},
   "outputs": [
    {
     "data": {
      "text/html": [
       "<div>\n",
       "<style scoped>\n",
       "    .dataframe tbody tr th:only-of-type {\n",
       "        vertical-align: middle;\n",
       "    }\n",
       "\n",
       "    .dataframe tbody tr th {\n",
       "        vertical-align: top;\n",
       "    }\n",
       "\n",
       "    .dataframe thead th {\n",
       "        text-align: right;\n",
       "    }\n",
       "</style>\n",
       "<table border=\"1\" class=\"dataframe\">\n",
       "  <thead>\n",
       "    <tr style=\"text-align: right;\">\n",
       "      <th></th>\n",
       "      <th>overall</th>\n",
       "      <th>vote</th>\n",
       "      <th>verified</th>\n",
       "      <th>reviewTime</th>\n",
       "      <th>reviewerID</th>\n",
       "      <th>asin</th>\n",
       "      <th>reviewerName</th>\n",
       "      <th>reviewText</th>\n",
       "      <th>summary</th>\n",
       "      <th>unixReviewTime</th>\n",
       "      <th>style</th>\n",
       "      <th>image</th>\n",
       "    </tr>\n",
       "  </thead>\n",
       "  <tbody>\n",
       "    <tr>\n",
       "      <th>0</th>\n",
       "      <td>5.0</td>\n",
       "      <td>2</td>\n",
       "      <td>True</td>\n",
       "      <td>08 31, 2010</td>\n",
       "      <td>A3NSN9WOX8470M</td>\n",
       "      <td>0006564224</td>\n",
       "      <td>mmm</td>\n",
       "      <td>I don't use these for their original use, and ...</td>\n",
       "      <td>Many uses...</td>\n",
       "      <td>1283212800</td>\n",
       "      <td>NaN</td>\n",
       "      <td>NaN</td>\n",
       "    </tr>\n",
       "    <tr>\n",
       "      <th>1</th>\n",
       "      <td>5.0</td>\n",
       "      <td>2</td>\n",
       "      <td>True</td>\n",
       "      <td>04 2, 2010</td>\n",
       "      <td>A2AMX0AJ2BUDNV</td>\n",
       "      <td>0006564224</td>\n",
       "      <td>John R. Welch</td>\n",
       "      <td>Seems a bit expensive for a plastic bottle, bu...</td>\n",
       "      <td>Dispenser bottle</td>\n",
       "      <td>1270166400</td>\n",
       "      <td>NaN</td>\n",
       "      <td>NaN</td>\n",
       "    </tr>\n",
       "    <tr>\n",
       "      <th>2</th>\n",
       "      <td>5.0</td>\n",
       "      <td>NaN</td>\n",
       "      <td>True</td>\n",
       "      <td>11 5, 2015</td>\n",
       "      <td>A8LUWTIPU9CZB</td>\n",
       "      <td>0560467893</td>\n",
       "      <td>Linda Fahner</td>\n",
       "      <td>Great product, love it!!</td>\n",
       "      <td>Five Stars</td>\n",
       "      <td>1446681600</td>\n",
       "      <td>NaN</td>\n",
       "      <td>NaN</td>\n",
       "    </tr>\n",
       "    <tr>\n",
       "      <th>3</th>\n",
       "      <td>4.0</td>\n",
       "      <td>4</td>\n",
       "      <td>True</td>\n",
       "      <td>10 29, 2015</td>\n",
       "      <td>AABKIIHAL0L66</td>\n",
       "      <td>0560467893</td>\n",
       "      <td>TheBlueChain</td>\n",
       "      <td>This is a sturdy floating corner shelf!  We mo...</td>\n",
       "      <td>Sturdy Shelf, Poor Installation Instructions</td>\n",
       "      <td>1446076800</td>\n",
       "      <td>NaN</td>\n",
       "      <td>NaN</td>\n",
       "    </tr>\n",
       "    <tr>\n",
       "      <th>4</th>\n",
       "      <td>3.0</td>\n",
       "      <td>NaN</td>\n",
       "      <td>True</td>\n",
       "      <td>09 9, 2015</td>\n",
       "      <td>A3DA0KIQ5OBK5C</td>\n",
       "      <td>0560467893</td>\n",
       "      <td>angelaarden</td>\n",
       "      <td>I purchased 4 of these shelves. they look grea...</td>\n",
       "      <td>Look great - one bad one...</td>\n",
       "      <td>1441756800</td>\n",
       "      <td>NaN</td>\n",
       "      <td>NaN</td>\n",
       "    </tr>\n",
       "    <tr>\n",
       "      <th>...</th>\n",
       "      <td>...</td>\n",
       "      <td>...</td>\n",
       "      <td>...</td>\n",
       "      <td>...</td>\n",
       "      <td>...</td>\n",
       "      <td>...</td>\n",
       "      <td>...</td>\n",
       "      <td>...</td>\n",
       "      <td>...</td>\n",
       "      <td>...</td>\n",
       "      <td>...</td>\n",
       "      <td>...</td>\n",
       "    </tr>\n",
       "    <tr>\n",
       "      <th>499995</th>\n",
       "      <td>5.0</td>\n",
       "      <td>NaN</td>\n",
       "      <td>True</td>\n",
       "      <td>11 13, 2017</td>\n",
       "      <td>A1HS8R80TM0SMG</td>\n",
       "      <td>B0000CFNXV</td>\n",
       "      <td>Carol Latourette</td>\n",
       "      <td>best brush and cleaner of all of them</td>\n",
       "      <td>Five Stars</td>\n",
       "      <td>1510531200</td>\n",
       "      <td>{'Color:': ' White'}</td>\n",
       "      <td>NaN</td>\n",
       "    </tr>\n",
       "    <tr>\n",
       "      <th>499996</th>\n",
       "      <td>5.0</td>\n",
       "      <td>NaN</td>\n",
       "      <td>True</td>\n",
       "      <td>11 10, 2017</td>\n",
       "      <td>A13BT0BD3K6RAH</td>\n",
       "      <td>B0000CFNXV</td>\n",
       "      <td>Anon</td>\n",
       "      <td>This is great. Works well, designed well.</td>\n",
       "      <td>Five Stars</td>\n",
       "      <td>1510272000</td>\n",
       "      <td>{'Color:': ' White'}</td>\n",
       "      <td>NaN</td>\n",
       "    </tr>\n",
       "    <tr>\n",
       "      <th>499997</th>\n",
       "      <td>5.0</td>\n",
       "      <td>NaN</td>\n",
       "      <td>True</td>\n",
       "      <td>11 9, 2017</td>\n",
       "      <td>A148P80E1VPCGG</td>\n",
       "      <td>B0000CFNXV</td>\n",
       "      <td>Adam Bier</td>\n",
       "      <td>As you lift it up, it opens. When you put it b...</td>\n",
       "      <td>OXO is worth the higher price</td>\n",
       "      <td>1510185600</td>\n",
       "      <td>{'Color:': ' White'}</td>\n",
       "      <td>NaN</td>\n",
       "    </tr>\n",
       "    <tr>\n",
       "      <th>499998</th>\n",
       "      <td>5.0</td>\n",
       "      <td>NaN</td>\n",
       "      <td>True</td>\n",
       "      <td>11 9, 2017</td>\n",
       "      <td>A3TXJRQEC0GHIN</td>\n",
       "      <td>B0000CFNXV</td>\n",
       "      <td>Slapering Hol</td>\n",
       "      <td>Quality, looks really nice and brush is great....</td>\n",
       "      <td>looks really nice and brush is great</td>\n",
       "      <td>1510185600</td>\n",
       "      <td>{'Color:': ' White'}</td>\n",
       "      <td>NaN</td>\n",
       "    </tr>\n",
       "    <tr>\n",
       "      <th>499999</th>\n",
       "      <td>5.0</td>\n",
       "      <td>NaN</td>\n",
       "      <td>True</td>\n",
       "      <td>11 7, 2017</td>\n",
       "      <td>A1L1KCCAR5YA1K</td>\n",
       "      <td>B0000CFNXV</td>\n",
       "      <td>N. Macias</td>\n",
       "      <td>Excellent product. I would definitely recommen...</td>\n",
       "      <td>Five Stars</td>\n",
       "      <td>1510012800</td>\n",
       "      <td>{'Color:': ' White'}</td>\n",
       "      <td>NaN</td>\n",
       "    </tr>\n",
       "  </tbody>\n",
       "</table>\n",
       "<p>500000 rows × 12 columns</p>\n",
       "</div>"
      ],
      "text/plain": [
       "        overall vote  verified   reviewTime      reviewerID        asin  \\\n",
       "0           5.0    2      True  08 31, 2010  A3NSN9WOX8470M  0006564224   \n",
       "1           5.0    2      True   04 2, 2010  A2AMX0AJ2BUDNV  0006564224   \n",
       "2           5.0  NaN      True   11 5, 2015   A8LUWTIPU9CZB  0560467893   \n",
       "3           4.0    4      True  10 29, 2015   AABKIIHAL0L66  0560467893   \n",
       "4           3.0  NaN      True   09 9, 2015  A3DA0KIQ5OBK5C  0560467893   \n",
       "...         ...  ...       ...          ...             ...         ...   \n",
       "499995      5.0  NaN      True  11 13, 2017  A1HS8R80TM0SMG  B0000CFNXV   \n",
       "499996      5.0  NaN      True  11 10, 2017  A13BT0BD3K6RAH  B0000CFNXV   \n",
       "499997      5.0  NaN      True   11 9, 2017  A148P80E1VPCGG  B0000CFNXV   \n",
       "499998      5.0  NaN      True   11 9, 2017  A3TXJRQEC0GHIN  B0000CFNXV   \n",
       "499999      5.0  NaN      True   11 7, 2017  A1L1KCCAR5YA1K  B0000CFNXV   \n",
       "\n",
       "            reviewerName                                         reviewText  \\\n",
       "0                    mmm  I don't use these for their original use, and ...   \n",
       "1          John R. Welch  Seems a bit expensive for a plastic bottle, bu...   \n",
       "2           Linda Fahner                           Great product, love it!!   \n",
       "3           TheBlueChain  This is a sturdy floating corner shelf!  We mo...   \n",
       "4            angelaarden  I purchased 4 of these shelves. they look grea...   \n",
       "...                  ...                                                ...   \n",
       "499995  Carol Latourette              best brush and cleaner of all of them   \n",
       "499996              Anon          This is great. Works well, designed well.   \n",
       "499997         Adam Bier  As you lift it up, it opens. When you put it b...   \n",
       "499998     Slapering Hol  Quality, looks really nice and brush is great....   \n",
       "499999         N. Macias  Excellent product. I would definitely recommen...   \n",
       "\n",
       "                                             summary  unixReviewTime  \\\n",
       "0                                       Many uses...      1283212800   \n",
       "1                                   Dispenser bottle      1270166400   \n",
       "2                                         Five Stars      1446681600   \n",
       "3       Sturdy Shelf, Poor Installation Instructions      1446076800   \n",
       "4                        Look great - one bad one...      1441756800   \n",
       "...                                              ...             ...   \n",
       "499995                                    Five Stars      1510531200   \n",
       "499996                                    Five Stars      1510272000   \n",
       "499997                 OXO is worth the higher price      1510185600   \n",
       "499998          looks really nice and brush is great      1510185600   \n",
       "499999                                    Five Stars      1510012800   \n",
       "\n",
       "                       style image  \n",
       "0                        NaN   NaN  \n",
       "1                        NaN   NaN  \n",
       "2                        NaN   NaN  \n",
       "3                        NaN   NaN  \n",
       "4                        NaN   NaN  \n",
       "...                      ...   ...  \n",
       "499995  {'Color:': ' White'}   NaN  \n",
       "499996  {'Color:': ' White'}   NaN  \n",
       "499997  {'Color:': ' White'}   NaN  \n",
       "499998  {'Color:': ' White'}   NaN  \n",
       "499999  {'Color:': ' White'}   NaN  \n",
       "\n",
       "[500000 rows x 12 columns]"
      ]
     },
     "execution_count": 206,
     "metadata": {},
     "output_type": "execute_result"
    }
   ],
   "source": [
    "df"
   ]
  },
  {
   "cell_type": "markdown",
   "id": "b7513d03",
   "metadata": {},
   "source": [
    "### For this assignment, we also use the reviewText for to analysis the topic modeling. "
   ]
  },
  {
   "cell_type": "code",
   "execution_count": 207,
   "id": "0f7b5f58",
   "metadata": {},
   "outputs": [],
   "source": [
    "review = [i for i in df['reviewText']]"
   ]
  },
  {
   "cell_type": "code",
   "execution_count": 208,
   "id": "0aeadeab",
   "metadata": {},
   "outputs": [
    {
     "data": {
      "text/plain": [
       "[\"I don't use these for their original use, and in 1988 I purchased 2 and have needed replacements for the last year.  I never even thought of using the Internet to find new ones but to my pleasant surprise I found them immediately and actually paid LESS for them than I did in 1988!\",\n",
       " \"Seems a bit expensive for a plastic bottle, but I couldn't find better value on the Internet. Product performs as advertised. Very fast response from this supplier.\",\n",
       " 'Great product, love it!!',\n",
       " \"This is a sturdy floating corner shelf!  We mounted a TV on the wall in the corner of the room and needed a shelf for the cable box. This product is perfect for our needs! We had to cut down the rear corner for the wires to run up the wall behind this shelf, but that wasn't an issue with the product itself. It looks great!  I'm giving it 4 stars because the enclosed instructions weren't very helpful at all. Thankfully my husband is good at handyman type things, so he was able to figure it out.\",\n",
       " \"I purchased 4 of these shelves. they look great. Thought they were wood. I guess I didn't read thoroughly. Anyway, that didn't matter to me, as they look real nice and were the size I was looking for. I gave them 3 stars as one of my shelves is coming apart at one end. I have used these less than 4 months. They all have way less than 30 lbs on them. It may be a minor issue and just a bad one as the others are great - no issues. My husband is going to try and glue and clamp it.\"]"
      ]
     },
     "execution_count": 208,
     "metadata": {},
     "output_type": "execute_result"
    }
   ],
   "source": [
    "review[:5]"
   ]
  },
  {
   "cell_type": "markdown",
   "id": "188163cb",
   "metadata": {},
   "source": [
    "### There are two popular stop words cleaning tool. SpaCy and NLTK. For this assignment, I used NLTK to cleaning data and create corpus."
   ]
  },
  {
   "cell_type": "code",
   "execution_count": 209,
   "id": "637dbf14",
   "metadata": {},
   "outputs": [],
   "source": [
    "from nltk.corpus import stopwords\n",
    "from nltk.tokenize import word_tokenize"
   ]
  },
  {
   "cell_type": "code",
   "execution_count": 210,
   "id": "10bf465c",
   "metadata": {},
   "outputs": [
    {
     "name": "stderr",
     "output_type": "stream",
     "text": [
      "[nltk_data] Downloading package punkt to /Users/phoebeli/nltk_data...\n",
      "[nltk_data]   Package punkt is already up-to-date!\n",
      "[nltk_data] Downloading package averaged_perceptron_tagger to\n",
      "[nltk_data]     /Users/phoebeli/nltk_data...\n",
      "[nltk_data]   Package averaged_perceptron_tagger is already up-to-\n",
      "[nltk_data]       date!\n",
      "[nltk_data] Downloading package stopwords to\n",
      "[nltk_data]     /Users/phoebeli/nltk_data...\n",
      "[nltk_data]   Package stopwords is already up-to-date!\n",
      "[nltk_data] Downloading package wordnet to\n",
      "[nltk_data]     /Users/phoebeli/nltk_data...\n",
      "[nltk_data]   Package wordnet is already up-to-date!\n"
     ]
    }
   ],
   "source": [
    "import nltk\n",
    "nltk.download('punkt')\n",
    "nltk.download('averaged_perceptron_tagger')\n",
    "nltk.download('stopwords')\n",
    "nltk.download('wordnet')\n",
    "import string"
   ]
  },
  {
   "cell_type": "markdown",
   "id": "60fa1689",
   "metadata": {},
   "source": [
    "### Then we can apply some general data cleaning processes"
   ]
  },
  {
   "cell_type": "code",
   "execution_count": 211,
   "id": "fd283dba",
   "metadata": {},
   "outputs": [],
   "source": [
    "#Set up stop words and tokenizer\n",
    "from nltk import word_tokenize, pos_tag, RegexpTokenizer\n",
    "stop_words = set(stopwords.words('english'))\n",
    "tokenizer = RegexpTokenizer(r'\\w+')"
   ]
  },
  {
   "cell_type": "markdown",
   "id": "5f523a0a",
   "metadata": {},
   "source": [
    "##### Regexp Tokenizer splits a string using a regular expression, which matches either the tokens or the separators between tokens."
   ]
  },
  {
   "cell_type": "markdown",
   "id": "05d6aa24",
   "metadata": {},
   "source": [
    "##### When I process the data, I found that some of the sentense is not str type, so we firstly pick up the sentense which is try type."
   ]
  },
  {
   "cell_type": "code",
   "execution_count": 212,
   "id": "512b11a2",
   "metadata": {},
   "outputs": [
    {
     "data": {
      "text/plain": [
       "499875"
      ]
     },
     "execution_count": 212,
     "metadata": {},
     "output_type": "execute_result"
    }
   ],
   "source": [
    "cleaned_text = [i for i in review if type(i) == str ]\n",
    "len(cleaned_text)"
   ]
  },
  {
   "cell_type": "markdown",
   "id": "f971d8b8",
   "metadata": {},
   "source": [
    "#### To form a sentence, we need at least three words. So that we remove the sentence less than three words/elements."
   ]
  },
  {
   "cell_type": "code",
   "execution_count": 213,
   "id": "abd6a61f",
   "metadata": {},
   "outputs": [
    {
     "data": {
      "text/plain": [
       "499090"
      ]
     },
     "execution_count": 213,
     "metadata": {},
     "output_type": "execute_result"
    }
   ],
   "source": [
    "cleaned_text = [i for i in cleaned_text if len(i) >= 3 ]\n",
    "len(cleaned_text)"
   ]
  },
  {
   "cell_type": "markdown",
   "id": "b9b37b16",
   "metadata": {},
   "source": [
    "#### Now we get a reasonably cleaned text data. The second step is to remove all the punkt elements and tokenized the sentences. To do this, we can se RegexpTokenizer, it will remove the punkt. https://www.kite.com/python/answers/how-to-remove-all-punctuation-marks-with-nltk-in-python. We can also tried to use different data processing steps to prepare the corpus. Here I tried WordNetLemmatizer, and Stemmer. And try to show which one perform better on the result. Here, we can pick up the first sentence to do a little experiment."
   ]
  },
  {
   "cell_type": "code",
   "execution_count": 214,
   "id": "21951193",
   "metadata": {},
   "outputs": [],
   "source": [
    "import gensim\n",
    "from gensim import corpora \n",
    "from gensim.models import LdaModel \n",
    "from nltk.stem import WordNetLemmatizer\n",
    "from nltk.stem.snowball import SnowballStemmer\n",
    "import operator\n",
    "import pandas as pd\n",
    "import gzip"
   ]
  },
  {
   "cell_type": "code",
   "execution_count": 215,
   "id": "75ac623b",
   "metadata": {},
   "outputs": [
    {
     "data": {
      "text/plain": [
       "\"I don't use these for their original use, and in 1988 I purchased 2 and have needed replacements for the last year.  I never even thought of using the Internet to find new ones but to my pleasant surprise I found them immediately and actually paid LESS for them than I did in 1988!\""
      ]
     },
     "execution_count": 215,
     "metadata": {},
     "output_type": "execute_result"
    }
   ],
   "source": [
    "exp = cleaned_text[0]\n",
    "exp"
   ]
  },
  {
   "cell_type": "code",
   "execution_count": 216,
   "id": "d3e744f2",
   "metadata": {},
   "outputs": [
    {
     "data": {
      "text/plain": [
       "['i', 'don', 't', 'use', 'these', 'for', 'their', 'original', 'use', 'and']"
      ]
     },
     "execution_count": 216,
     "metadata": {},
     "output_type": "execute_result"
    }
   ],
   "source": [
    "tokens = tokenizer.tokenize(exp.lower())\n",
    "tokens[:10]"
   ]
  },
  {
   "cell_type": "code",
   "execution_count": 217,
   "id": "524fa1fa",
   "metadata": {},
   "outputs": [
    {
     "name": "stdout",
     "output_type": "stream",
     "text": [
      "['i', 'don', 't', 'use', 'these', 'for', 'their', 'original', 'use', 'and', 'in', '1988', 'i', 'purchased', '2', 'and', 'have', 'needed', 'replacement', 'for', 'the', 'last', 'year', 'i', 'never', 'even', 'thought', 'of', 'using', 'the', 'internet', 'to', 'find', 'new', 'one', 'but', 'to', 'my', 'pleasant', 'surprise', 'i', 'found', 'them', 'immediately', 'and', 'actually', 'paid', 'le', 'for', 'them', 'than', 'i', 'did', 'in', '1988']\n"
     ]
    }
   ],
   "source": [
    "## Using WordNetLemmatizer\n",
    "lemmatizer = WordNetLemmatizer()\n",
    "lemm_tokens = [lemmatizer.lemmatize(token) for token in tokens]\n",
    "print(lemm_tokens)"
   ]
  },
  {
   "cell_type": "markdown",
   "id": "3cc952ce",
   "metadata": {},
   "source": [
    "##### We use the Snowball stemmer here, which also allow you to pick different languge. Source: https://www.nltk.org/howto/stem.html"
   ]
  },
  {
   "cell_type": "code",
   "execution_count": 218,
   "id": "b4c942ef",
   "metadata": {},
   "outputs": [
    {
     "name": "stdout",
     "output_type": "stream",
     "text": [
      "['i', 'don', 't', 'use', 'these', 'for', 'their', 'origin', 'use', 'and', 'in', '1988', 'i', 'purchas', '2', 'and', 'have', 'need', 'replac', 'for', 'the', 'last', 'year', 'i', 'never', 'even', 'thought', 'of', 'use', 'the', 'internet', 'to', 'find', 'new', 'one', 'but', 'to', 'my', 'pleasant', 'surpris', 'i', 'found', 'them', 'immedi', 'and', 'actual', 'paid', 'less', 'for', 'them', 'than', 'i', 'did', 'in', '1988']\n"
     ]
    }
   ],
   "source": [
    "## Using SnowballStemmer\n",
    "sb_stemmer = SnowballStemmer('english')\n",
    "stemmed_tokens = [sb_stemmer.stem(token) for token in tokens]\n",
    "print(stemmed_tokens)"
   ]
  },
  {
   "cell_type": "markdown",
   "id": "258959ad",
   "metadata": {},
   "source": [
    "#### We can see that for most of the tokens, they are pretty much the same. However, the Snowball stemmer will form the adj or adv wrods into their originala form. For example, if we use lemmatizer, it will return original, but for snowball stemmer, it will return origin. "
   ]
  },
  {
   "cell_type": "markdown",
   "id": "8db4c84d",
   "metadata": {},
   "source": [
    "#### Now to can put all these steps together, and create the corpus. We will first remove the stop words and the string format numbers, Lemmatize/Stemmer the tokens, and then added to the the texts lists."
   ]
  },
  {
   "cell_type": "code",
   "execution_count": 219,
   "id": "5dfdff98",
   "metadata": {},
   "outputs": [
    {
     "data": {
      "text/plain": [
       "['0', '1', '2', '3', '4', '5', '6', '7', '8', '9']"
      ]
     },
     "execution_count": 219,
     "metadata": {},
     "output_type": "execute_result"
    }
   ],
   "source": [
    "num = [str(i) for i in range(10)]\n",
    "num"
   ]
  },
  {
   "cell_type": "code",
   "execution_count": 220,
   "id": "827f96a4",
   "metadata": {},
   "outputs": [],
   "source": [
    "lemm_texts = []\n",
    "\n",
    "for s in cleaned_text:\n",
    "    tokens = tokenizer.tokenize(s.lower()) #remove punkt and lower case the words. \n",
    "    stopped_tokens = [token for token in tokens if not token in stop_words] #remove the stop_words\n",
    "    num_tokens = [token for token in stopped_tokens if not token in num] #remove the string type numbers\n",
    "    lemmed_tokens = [lemmatizer.lemmatize(token) for token in num_tokens] # lemmatize the tokens\n",
    "    lemm_texts.append(lemmed_tokens)# Adds tokens to new list \"texts\""
   ]
  },
  {
   "cell_type": "code",
   "execution_count": 221,
   "id": "9b095ab0",
   "metadata": {},
   "outputs": [
    {
     "name": "stdout",
     "output_type": "stream",
     "text": [
      "['use', 'original', 'use', '1988', 'purchased', 'needed', 'replacement', 'last', 'year', 'never', 'even', 'thought', 'using', 'internet', 'find', 'new', 'one', 'pleasant', 'surprise', 'found', 'immediately', 'actually', 'paid', 'le', '1988']\n"
     ]
    }
   ],
   "source": [
    "print(lemm_texts[0])"
   ]
  },
  {
   "cell_type": "code",
   "execution_count": 222,
   "id": "73d59d19",
   "metadata": {},
   "outputs": [],
   "source": [
    "sb_texts = []\n",
    "for s in cleaned_text:\n",
    "    tokens = tokenizer.tokenize(s.lower()) #remove punkt and lower case the words. \n",
    "    stopped_tokens = [token for token in tokens if not token in stop_words] #remove the stop_words\n",
    "    num_tokens = [token for token in stopped_tokens if not token in num] #remove the string type numbers\n",
    "    stemmed_tokens = [sb_stemmer.stem(token) for token in num_tokens] # stem tokens\n",
    "    sb_texts.append(stemmed_tokens)# Adds tokens to new list \"texts\"\n",
    "    "
   ]
  },
  {
   "cell_type": "code",
   "execution_count": 223,
   "id": "601de0e6",
   "metadata": {},
   "outputs": [
    {
     "name": "stdout",
     "output_type": "stream",
     "text": [
      "['use', 'origin', 'use', '1988', 'purchas', 'need', 'replac', 'last', 'year', 'never', 'even', 'thought', 'use', 'internet', 'find', 'new', 'one', 'pleasant', 'surpris', 'found', 'immedi', 'actual', 'paid', 'less', '1988']\n"
     ]
    }
   ],
   "source": [
    "print(sb_texts[0])"
   ]
  },
  {
   "cell_type": "code",
   "execution_count": 224,
   "id": "7c410d48",
   "metadata": {},
   "outputs": [
    {
     "name": "stdout",
     "output_type": "stream",
     "text": [
      "Dictionary(85360 unique tokens: ['1988', 'actually', 'even', 'find', 'found']...)\n"
     ]
    }
   ],
   "source": [
    "#Create different text dict. \n",
    "lemm_texts_dict = corpora.Dictionary(lemm_texts)\n",
    "lemm_texts_dict.save('review_lemm.dict') #save for future used. \n",
    "print(lemm_texts_dict)"
   ]
  },
  {
   "cell_type": "code",
   "execution_count": 225,
   "id": "170da377",
   "metadata": {},
   "outputs": [
    {
     "name": "stdout",
     "output_type": "stream",
     "text": [
      "Dictionary(66133 unique tokens: ['1988', 'actual', 'even', 'find', 'found']...)\n"
     ]
    }
   ],
   "source": [
    "sb_texts_dict = corpora.Dictionary(sb_texts)\n",
    "sb_texts_dict.save('review_sb.dict') #save for future used. \n",
    "print(sb_texts_dict)"
   ]
  },
  {
   "cell_type": "code",
   "execution_count": 226,
   "id": "8f70da05",
   "metadata": {},
   "outputs": [
    {
     "data": {
      "text/plain": [
       "499090"
      ]
     },
     "execution_count": 226,
     "metadata": {},
     "output_type": "execute_result"
    }
   ],
   "source": [
    "lemm_corpus = [lemm_texts_dict.doc2bow(text) for text in lemm_texts]\n",
    "len(lemm_corpus)"
   ]
  },
  {
   "cell_type": "code",
   "execution_count": 227,
   "id": "ae5d61cd",
   "metadata": {},
   "outputs": [
    {
     "data": {
      "text/plain": [
       "499090"
      ]
     },
     "execution_count": 227,
     "metadata": {},
     "output_type": "execute_result"
    }
   ],
   "source": [
    "sb_corpus = [sb_texts_dict.doc2bow(text) for text in sb_texts]\n",
    "len(sb_corpus)"
   ]
  },
  {
   "cell_type": "code",
   "execution_count": 228,
   "id": "976dbc8f",
   "metadata": {},
   "outputs": [],
   "source": [
    "gensim.corpora.MmCorpus.serialize('lemm_review.mm', lemm_corpus)\n",
    "gensim.corpora.MmCorpus.serialize('sb_review.mm', sb_corpus)"
   ]
  },
  {
   "cell_type": "code",
   "execution_count": 229,
   "id": "d6ba6b87",
   "metadata": {},
   "outputs": [
    {
     "data": {
      "text/plain": [
       "[(0,\n",
       "  '0.142*\"coffee\" + 0.109*\"cup\" + 0.046*\"press\" + 0.033*\"filter\" + 0.029*\"maker\"'),\n",
       " (1,\n",
       "  '0.044*\"timer\" + 0.040*\"marble\" + 0.029*\"thermometer\" + 0.026*\"potato\" + 0.025*\"temperature\"'),\n",
       " (2,\n",
       "  '0.047*\"bag\" + 0.041*\"carpet\" + 0.026*\"brush\" + 0.026*\"cleaner\" + 0.022*\"vacuum\"'),\n",
       " (3,\n",
       "  '0.019*\"pan\" + 0.014*\"water\" + 0.013*\"make\" + 0.011*\"use\" + 0.008*\"cake\"'),\n",
       " (4,\n",
       "  '0.021*\"one\" + 0.020*\"great\" + 0.014*\"work\" + 0.014*\"use\" + 0.012*\"good\"')]"
      ]
     },
     "execution_count": 229,
     "metadata": {},
     "output_type": "execute_result"
    }
   ],
   "source": [
    "lda_model = gensim.models.LdaModel(lemm_corpus,alpha='auto', num_topics=5,id2word=lemm_texts_dict, passes=20)\n",
    "\n",
    "lda_model.show_topics(num_topics=5,num_words=5)"
   ]
  },
  {
   "cell_type": "code",
   "execution_count": 230,
   "id": "76f7639c",
   "metadata": {},
   "outputs": [
    {
     "data": {
      "text/plain": [
       "[(0,\n",
       "  '0.061*\"knife\" + 0.045*\"cut\" + 0.026*\"sharp\" + 0.022*\"slice\" + 0.020*\"blade\"'),\n",
       " (1,\n",
       "  '0.033*\"one\" + 0.012*\"time\" + 0.012*\"would\" + 0.011*\"year\" + 0.011*\"use\"'),\n",
       " (2,\n",
       "  '0.036*\"use\" + 0.027*\"great\" + 0.018*\"love\" + 0.015*\"make\" + 0.014*\"work\"'),\n",
       " (3,\n",
       "  '0.042*\"clean\" + 0.039*\"carpet\" + 0.028*\"bottl\" + 0.028*\"marbl\" + 0.026*\"brush\"'),\n",
       " (4,\n",
       "  '0.111*\"coffe\" + 0.086*\"cup\" + 0.076*\"water\" + 0.035*\"pour\" + 0.034*\"filter\"')]"
      ]
     },
     "execution_count": 230,
     "metadata": {},
     "output_type": "execute_result"
    }
   ],
   "source": [
    "lda_model = gensim.models.LdaModel(sb_corpus,alpha='auto', num_topics=5,id2word=sb_texts_dict, passes=20)\n",
    "\n",
    "lda_model.show_topics(num_topics=5,num_words=5)"
   ]
  },
  {
   "cell_type": "markdown",
   "id": "8314674a",
   "metadata": {},
   "source": [
    "##### By observing the topics result, we can see that the lemm curpus will return the topic which related to how people feel about the products and how long they been use. The temmers will return different topic based on the products function. Like the carpet/cleaner and coffe/pan. "
   ]
  },
  {
   "cell_type": "code",
   "execution_count": 231,
   "id": "38128b37",
   "metadata": {},
   "outputs": [],
   "source": [
    "from gensim.test.utils import common_corpus, common_dictionary\n",
    "from gensim.models.coherencemodel import CoherenceModel\n",
    "cm = CoherenceModel(model=lda_model, corpus=lemm_corpus, coherence='u_mass')\n",
    "coherence = cm.get_coherence() "
   ]
  },
  {
   "cell_type": "code",
   "execution_count": 232,
   "id": "283a54a1",
   "metadata": {},
   "outputs": [
    {
     "data": {
      "text/plain": [
       "-9.424404440805027"
      ]
     },
     "execution_count": 232,
     "metadata": {},
     "output_type": "execute_result"
    }
   ],
   "source": [
    "coherence"
   ]
  },
  {
   "cell_type": "code",
   "execution_count": 233,
   "id": "aec3d15a",
   "metadata": {},
   "outputs": [],
   "source": [
    "cm2 = CoherenceModel(model=lda_model, corpus=sb_corpus, coherence='u_mass')\n",
    "coherence2 = cm2.get_coherence() "
   ]
  },
  {
   "cell_type": "code",
   "execution_count": 234,
   "id": "37344e44",
   "metadata": {},
   "outputs": [
    {
     "data": {
      "text/plain": [
       "-2.862016486438164"
      ]
     },
     "execution_count": 234,
     "metadata": {},
     "output_type": "execute_result"
    }
   ],
   "source": [
    "coherence2"
   ]
  },
  {
   "cell_type": "markdown",
   "id": "b4d609e2",
   "metadata": {},
   "source": [
    "###### Note: for u_mass, coherence approch to 0 will indicate a better result. So we can the stemmer process is better. "
   ]
  },
  {
   "cell_type": "markdown",
   "id": "f42d9e93",
   "metadata": {},
   "source": [
    "#### Let's see how different models will affect the coherence score and topic result. "
   ]
  },
  {
   "cell_type": "code",
   "execution_count": 235,
   "id": "c037476d",
   "metadata": {},
   "outputs": [],
   "source": [
    "model = models.LdaMulticore(sb_corpus, num_topics=5, id2word=sb_texts_dict, passes=2, workers=2, dtype=np.float64)"
   ]
  },
  {
   "cell_type": "code",
   "execution_count": 236,
   "id": "4b1e59be",
   "metadata": {},
   "outputs": [
    {
     "data": {
      "text/plain": [
       "[(0,\n",
       "  '0.055*\"coffe\" + 0.031*\"cup\" + 0.018*\"press\" + 0.018*\"use\" + 0.017*\"make\"'),\n",
       " (1,\n",
       "  '0.023*\"use\" + 0.015*\"make\" + 0.012*\"water\" + 0.009*\"get\" + 0.009*\"clean\"'),\n",
       " (2, '0.028*\"use\" + 0.020*\"pan\" + 0.018*\"love\" + 0.014*\"cook\" + 0.014*\"one\"'),\n",
       " (3, '0.026*\"one\" + 0.012*\"use\" + 0.012*\"year\" + 0.010*\"time\" + 0.009*\"work\"'),\n",
       " (4,\n",
       "  '0.042*\"great\" + 0.030*\"work\" + 0.022*\"good\" + 0.020*\"product\" + 0.019*\"well\"')]"
      ]
     },
     "execution_count": 236,
     "metadata": {},
     "output_type": "execute_result"
    }
   ],
   "source": [
    "model.show_topics(num_topics = 5,num_words=5)"
   ]
  },
  {
   "cell_type": "code",
   "execution_count": 237,
   "id": "47396c54",
   "metadata": {},
   "outputs": [
    {
     "data": {
      "text/plain": [
       "-2.1332628492501327"
      ]
     },
     "execution_count": 237,
     "metadata": {},
     "output_type": "execute_result"
    }
   ],
   "source": [
    "cm3 = CoherenceModel(model=model, corpus=sb_corpus, coherence='u_mass')\n",
    "coherence3 = cm3.get_coherence() \n",
    "coherence3"
   ]
  },
  {
   "cell_type": "code",
   "execution_count": 238,
   "id": "6ff8d29a",
   "metadata": {},
   "outputs": [
    {
     "data": {
      "text/plain": [
       "[(0,\n",
       "  '0.020*\"coffee\" + 0.016*\"one\" + 0.015*\"water\" + 0.012*\"cup\" + 0.010*\"time\"'),\n",
       " (1,\n",
       "  '0.048*\"great\" + 0.029*\"work\" + 0.026*\"good\" + 0.026*\"easy\" + 0.022*\"well\"'),\n",
       " (2,\n",
       "  '0.020*\"pan\" + 0.015*\"use\" + 0.011*\"make\" + 0.009*\"great\" + 0.008*\"size\"'),\n",
       " (3,\n",
       "  '0.011*\"product\" + 0.008*\"would\" + 0.008*\"fit\" + 0.007*\"item\" + 0.007*\"amazon\"'),\n",
       " (4,\n",
       "  '0.032*\"one\" + 0.025*\"knife\" + 0.021*\"love\" + 0.015*\"year\" + 0.014*\"bought\"')]"
      ]
     },
     "execution_count": 238,
     "metadata": {},
     "output_type": "execute_result"
    }
   ],
   "source": [
    "model2 = models.LdaMulticore(lemm_corpus, num_topics=5, id2word=lemm_texts_dict, passes=2, workers=2, dtype=np.float64)\n",
    "model2.show_topics(num_topics = 5,num_words=5)\n"
   ]
  },
  {
   "cell_type": "code",
   "execution_count": 239,
   "id": "009943bf",
   "metadata": {},
   "outputs": [
    {
     "data": {
      "text/plain": [
       "-7.01099324594302"
      ]
     },
     "execution_count": 239,
     "metadata": {},
     "output_type": "execute_result"
    }
   ],
   "source": [
    "cm4 = CoherenceModel(model=model, corpus=lemm_corpus, coherence='u_mass')\n",
    "coherence4 = cm4.get_coherence() \n",
    "coherence4"
   ]
  },
  {
   "cell_type": "markdown",
   "id": "4c6c6e8b",
   "metadata": {},
   "source": [
    "#### The LDAMulticore model slightly improve the coherence score in both lemmatizer and stemmer. "
   ]
  },
  {
   "cell_type": "markdown",
   "id": "a98e5fff",
   "metadata": {},
   "source": [
    "#### Next, I exlpored how different topic numbers influence the coherence score the topic result. I select the range fomr 10 - 25. We use the LDAMulticore model and the stemmer to explore the result."
   ]
  },
  {
   "cell_type": "code",
   "execution_count": 240,
   "id": "ea8d994d",
   "metadata": {},
   "outputs": [
    {
     "data": {
      "text/plain": [
       "[(0,\n",
       "  '0.029*\"make\" + 0.024*\"use\" + 0.023*\"bowl\" + 0.018*\"garlic\" + 0.012*\"scoop\" + 0.011*\"bread\" + 0.010*\"chees\" + 0.010*\"dough\" + 0.010*\"ice\" + 0.010*\"slice\"'),\n",
       " (1,\n",
       "  '0.037*\"pan\" + 0.028*\"use\" + 0.024*\"cook\" + 0.014*\"oven\" + 0.012*\"make\" + 0.011*\"bake\" + 0.010*\"stick\" + 0.010*\"clean\" + 0.009*\"grill\" + 0.009*\"heat\"'),\n",
       " (2,\n",
       "  '0.052*\"one\" + 0.035*\"year\" + 0.028*\"use\" + 0.019*\"time\" + 0.016*\"last\" + 0.016*\"work\" + 0.014*\"replac\" + 0.013*\"old\" + 0.013*\"bought\" + 0.011*\"new\"'),\n",
       " (3,\n",
       "  '0.025*\"use\" + 0.024*\"easi\" + 0.022*\"nice\" + 0.018*\"well\" + 0.017*\"size\" + 0.016*\"like\" + 0.016*\"great\" + 0.015*\"fit\" + 0.015*\"work\" + 0.015*\"clean\"'),\n",
       " (4,\n",
       "  '0.113*\"love\" + 0.038*\"perfect\" + 0.021*\"gift\" + 0.020*\"use\" + 0.019*\"great\" + 0.019*\"bought\" + 0.017*\"one\" + 0.016*\"size\" + 0.016*\"color\" + 0.013*\"make\"'),\n",
       " (5,\n",
       "  '0.012*\"product\" + 0.011*\"would\" + 0.009*\"one\" + 0.009*\"return\" + 0.009*\"review\" + 0.009*\"back\" + 0.008*\"get\" + 0.007*\"amazon\" + 0.007*\"item\" + 0.007*\"order\"'),\n",
       " (6,\n",
       "  '0.027*\"lid\" + 0.021*\"seal\" + 0.019*\"wash\" + 0.019*\"stainless\" + 0.018*\"steel\" + 0.017*\"jar\" + 0.016*\"dri\" + 0.015*\"link\" + 0.013*\"use\" + 0.013*\"dishwash\"'),\n",
       " (7,\n",
       "  '0.062*\"great\" + 0.043*\"work\" + 0.041*\"product\" + 0.037*\"knife\" + 0.036*\"good\" + 0.027*\"price\" + 0.025*\"qualiti\" + 0.024*\"well\" + 0.023*\"use\" + 0.017*\"recommend\"'),\n",
       " (8,\n",
       "  '0.030*\"clean\" + 0.025*\"carpet\" + 0.019*\"use\" + 0.016*\"machin\" + 0.016*\"filter\" + 0.014*\"vacuum\" + 0.014*\"cleaner\" + 0.012*\"water\" + 0.010*\"get\" + 0.009*\"hoover\"'),\n",
       " (9,\n",
       "  '0.053*\"coffe\" + 0.036*\"cup\" + 0.025*\"water\" + 0.017*\"make\" + 0.015*\"hot\" + 0.014*\"press\" + 0.013*\"pour\" + 0.013*\"use\" + 0.012*\"measur\" + 0.011*\"pot\"')]"
      ]
     },
     "execution_count": 240,
     "metadata": {},
     "output_type": "execute_result"
    }
   ],
   "source": [
    "model_10 = models.LdaMulticore(sb_corpus, num_topics=10, id2word=sb_texts_dict, passes=2, workers=2, dtype=np.float64)\n",
    "model_10.show_topics(num_topics = 10)"
   ]
  },
  {
   "cell_type": "code",
   "execution_count": 241,
   "id": "0402a8be",
   "metadata": {},
   "outputs": [
    {
     "data": {
      "text/plain": [
       "[(12,\n",
       "  '0.088*\"pan\" + 0.031*\"use\" + 0.027*\"cook\" + 0.024*\"stick\" + 0.021*\"iron\" + 0.016*\"clean\" + 0.015*\"cast\" + 0.012*\"heavi\" + 0.011*\"even\" + 0.011*\"non\"'),\n",
       " (3,\n",
       "  '0.083*\"coffe\" + 0.057*\"cup\" + 0.023*\"make\" + 0.022*\"press\" + 0.017*\"pour\" + 0.016*\"use\" + 0.016*\"maker\" + 0.015*\"hot\" + 0.014*\"pot\" + 0.014*\"measur\"'),\n",
       " (10,\n",
       "  '0.024*\"one\" + 0.019*\"product\" + 0.015*\"amazon\" + 0.013*\"purchas\" + 0.012*\"order\" + 0.012*\"year\" + 0.012*\"review\" + 0.012*\"would\" + 0.011*\"time\" + 0.011*\"buy\"'),\n",
       " (2,\n",
       "  '0.034*\"perfect\" + 0.034*\"use\" + 0.033*\"size\" + 0.021*\"make\" + 0.020*\"garlic\" + 0.019*\"food\" + 0.019*\"grill\" + 0.018*\"great\" + 0.018*\"cook\" + 0.017*\"small\"'),\n",
       " (7,\n",
       "  '0.011*\"like\" + 0.011*\"nice\" + 0.010*\"handl\" + 0.010*\"hold\" + 0.009*\"look\" + 0.009*\"use\" + 0.008*\"get\" + 0.008*\"fit\" + 0.008*\"would\" + 0.008*\"side\"'),\n",
       " (9,\n",
       "  '0.102*\"great\" + 0.092*\"work\" + 0.050*\"well\" + 0.049*\"good\" + 0.037*\"product\" + 0.031*\"use\" + 0.029*\"easi\" + 0.028*\"price\" + 0.021*\"qualiti\" + 0.018*\"nice\"'),\n",
       " (14,\n",
       "  '0.034*\"one\" + 0.018*\"use\" + 0.017*\"lid\" + 0.016*\"plastic\" + 0.015*\"glass\" + 0.013*\"replac\" + 0.012*\"year\" + 0.011*\"open\" + 0.011*\"seal\" + 0.009*\"like\"'),\n",
       " (4,\n",
       "  '0.048*\"cake\" + 0.047*\"bake\" + 0.047*\"cooki\" + 0.037*\"bowl\" + 0.030*\"make\" + 0.029*\"bread\" + 0.022*\"dough\" + 0.022*\"link\" + 0.015*\"hook\" + 0.013*\"roll\"'),\n",
       " (1,\n",
       "  '0.033*\"carpet\" + 0.019*\"vacuum\" + 0.017*\"cleaner\" + 0.017*\"clean\" + 0.013*\"use\" + 0.013*\"machin\" + 0.012*\"filter\" + 0.012*\"hoover\" + 0.010*\"air\" + 0.010*\"unit\"'),\n",
       " (5,\n",
       "  '0.092*\"love\" + 0.042*\"one\" + 0.030*\"use\" + 0.026*\"bought\" + 0.022*\"gift\" + 0.020*\"year\" + 0.017*\"set\" + 0.015*\"great\" + 0.014*\"color\" + 0.012*\"purchas\"')]"
      ]
     },
     "execution_count": 241,
     "metadata": {},
     "output_type": "execute_result"
    }
   ],
   "source": [
    "model_15 = models.LdaMulticore(sb_corpus, num_topics=15, id2word=sb_texts_dict, passes=2, workers=2, dtype=np.float64)\n",
    "model_15.show_topics(num_topics = 10)"
   ]
  },
  {
   "cell_type": "code",
   "execution_count": 242,
   "id": "daf24fa5",
   "metadata": {},
   "outputs": [
    {
     "data": {
      "text/plain": [
       "[(10,\n",
       "  '0.063*\"cook\" + 0.030*\"use\" + 0.019*\"meat\" + 0.017*\"rice\" + 0.016*\"make\" + 0.016*\"perfect\" + 0.015*\"chicken\" + 0.012*\"great\" + 0.012*\"pot\" + 0.012*\"steak\"'),\n",
       " (8,\n",
       "  '0.073*\"water\" + 0.030*\"lid\" + 0.026*\"cup\" + 0.025*\"measur\" + 0.017*\"seal\" + 0.016*\"pour\" + 0.016*\"use\" + 0.015*\"hot\" + 0.013*\"fill\" + 0.011*\"pyrex\"'),\n",
       " (1,\n",
       "  '0.095*\"coffe\" + 0.040*\"cup\" + 0.032*\"press\" + 0.023*\"make\" + 0.018*\"maker\" + 0.016*\"pot\" + 0.015*\"use\" + 0.014*\"hot\" + 0.013*\"brew\" + 0.012*\"caraf\"'),\n",
       " (12,\n",
       "  '0.033*\"bowl\" + 0.027*\"use\" + 0.027*\"garlic\" + 0.023*\"jar\" + 0.017*\"food\" + 0.017*\"make\" + 0.015*\"chees\" + 0.012*\"mixer\" + 0.011*\"juic\" + 0.011*\"grater\"'),\n",
       " (11,\n",
       "  '0.264*\"great\" + 0.259*\"work\" + 0.077*\"well\" + 0.028*\"product\" + 0.020*\"price\" + 0.018*\"fine\" + 0.015*\"love\" + 0.015*\"littl\" + 0.014*\"expect\" + 0.013*\"job\"'),\n",
       " (4,\n",
       "  '0.017*\"one\" + 0.014*\"use\" + 0.013*\"handl\" + 0.011*\"like\" + 0.011*\"plastic\" + 0.009*\"get\" + 0.009*\"would\" + 0.009*\"open\" + 0.008*\"hold\" + 0.007*\"side\"'),\n",
       " (2,\n",
       "  '0.018*\"one\" + 0.017*\"amazon\" + 0.016*\"product\" + 0.015*\"review\" + 0.014*\"order\" + 0.014*\"return\" + 0.013*\"would\" + 0.012*\"replac\" + 0.011*\"buy\" + 0.011*\"purchas\"'),\n",
       " (0,\n",
       "  '0.024*\"time\" + 0.024*\"use\" + 0.015*\"read\" + 0.014*\"get\" + 0.014*\"oven\" + 0.012*\"temperatur\" + 0.011*\"thermomet\" + 0.010*\"work\" + 0.010*\"set\" + 0.009*\"timer\"'),\n",
       " (14,\n",
       "  '0.041*\"carpet\" + 0.023*\"vacuum\" + 0.023*\"cleaner\" + 0.020*\"bag\" + 0.017*\"clean\" + 0.014*\"hoover\" + 0.013*\"machin\" + 0.012*\"use\" + 0.012*\"floor\" + 0.010*\"get\"'),\n",
       " (9,\n",
       "  '0.097*\"pan\" + 0.024*\"iron\" + 0.023*\"stick\" + 0.020*\"grill\" + 0.020*\"use\" + 0.019*\"cook\" + 0.017*\"heat\" + 0.017*\"cast\" + 0.015*\"link\" + 0.012*\"non\"')]"
      ]
     },
     "execution_count": 242,
     "metadata": {},
     "output_type": "execute_result"
    }
   ],
   "source": [
    "model_20 = models.LdaMulticore(sb_corpus, num_topics=20, id2word=sb_texts_dict, passes=2, workers=2, dtype=np.float64)\n",
    "model_20.show_topics(num_topics = 10)"
   ]
  },
  {
   "cell_type": "code",
   "execution_count": 243,
   "id": "0f600335",
   "metadata": {},
   "outputs": [
    {
     "data": {
      "text/plain": [
       "[(15,\n",
       "  '0.318*\"good\" + 0.102*\"glass\" + 0.052*\"qualiti\" + 0.046*\"bottl\" + 0.038*\"pyrex\" + 0.031*\"product\" + 0.027*\"price\" + 0.018*\"wine\" + 0.013*\"nice\" + 0.011*\"pretti\"'),\n",
       " (24,\n",
       "  '0.014*\"use\" + 0.013*\"attach\" + 0.012*\"put\" + 0.011*\"hold\" + 0.010*\"suction\" + 0.010*\"togeth\" + 0.009*\"assembl\" + 0.009*\"would\" + 0.008*\"cord\" + 0.008*\"place\"'),\n",
       " (22,\n",
       "  '0.046*\"toaster\" + 0.034*\"knive\" + 0.033*\"fit\" + 0.032*\"plate\" + 0.029*\"egg\" + 0.028*\"side\" + 0.024*\"perfect\" + 0.023*\"wire\" + 0.022*\"roll\" + 0.017*\"sharpen\"'),\n",
       " (1,\n",
       "  '0.042*\"item\" + 0.040*\"product\" + 0.037*\"excel\" + 0.037*\"order\" + 0.036*\"arriv\" + 0.028*\"amazon\" + 0.026*\"exact\" + 0.025*\"ship\" + 0.023*\"purchas\" + 0.023*\"thank\"'),\n",
       " (9,\n",
       "  '0.092*\"press\" + 0.069*\"garlic\" + 0.026*\"juic\" + 0.022*\"marbl\" + 0.020*\"peel\" + 0.018*\"hand\" + 0.016*\"orang\" + 0.016*\"potato\" + 0.014*\"fruit\" + 0.014*\"pepper\"'),\n",
       " (10,\n",
       "  '0.051*\"set\" + 0.025*\"color\" + 0.019*\"look\" + 0.017*\"dish\" + 0.015*\"piec\" + 0.014*\"beauti\" + 0.010*\"kitchen\" + 0.010*\"qualiti\" + 0.009*\"oxo\" + 0.009*\"design\"'),\n",
       " (3,\n",
       "  '0.087*\"one\" + 0.065*\"year\" + 0.035*\"use\" + 0.028*\"replac\" + 0.027*\"old\" + 0.025*\"last\" + 0.020*\"bought\" + 0.019*\"new\" + 0.016*\"time\" + 0.016*\"work\"'),\n",
       " (21,\n",
       "  '0.044*\"water\" + 0.027*\"lid\" + 0.018*\"open\" + 0.016*\"use\" + 0.015*\"get\" + 0.013*\"seal\" + 0.013*\"hot\" + 0.011*\"top\" + 0.011*\"handl\" + 0.010*\"pour\"'),\n",
       " (11,\n",
       "  '0.096*\"pan\" + 0.036*\"oven\" + 0.033*\"use\" + 0.030*\"cook\" + 0.028*\"stick\" + 0.023*\"iron\" + 0.021*\"grill\" + 0.016*\"cast\" + 0.013*\"heat\" + 0.013*\"even\"'),\n",
       " (7,\n",
       "  '0.051*\"bowl\" + 0.023*\"chees\" + 0.019*\"mixer\" + 0.018*\"kitchen\" + 0.018*\"use\" + 0.017*\"grater\" + 0.016*\"make\" + 0.016*\"food\" + 0.015*\"lodg\" + 0.015*\"counter\"')]"
      ]
     },
     "execution_count": 243,
     "metadata": {},
     "output_type": "execute_result"
    }
   ],
   "source": [
    "model_25 = models.LdaMulticore(sb_corpus, num_topics=25, id2word=sb_texts_dict, passes=2, workers=2, dtype=np.float64)\n",
    "model_25.show_topics(num_topics = 10)"
   ]
  },
  {
   "cell_type": "code",
   "execution_count": 265,
   "id": "065bf696",
   "metadata": {},
   "outputs": [],
   "source": [
    "from gensim.models.coherencemodel import CoherenceModel"
   ]
  },
  {
   "cell_type": "code",
   "execution_count": 284,
   "id": "6d03dc1b",
   "metadata": {},
   "outputs": [],
   "source": [
    "def get_coherence_score(model): \n",
    "    cm = CoherenceModel(model=model, texts=sb_texts, coherence='c_v')\n",
    "    coherence = cm.get_coherence() \n",
    "    return coherence\n",
    "    "
   ]
  },
  {
   "cell_type": "code",
   "execution_count": 301,
   "id": "3bc4a99b",
   "metadata": {},
   "outputs": [
    {
     "data": {
      "text/plain": [
       "0.5743323720475952"
      ]
     },
     "execution_count": 301,
     "metadata": {},
     "output_type": "execute_result"
    }
   ],
   "source": [
    "get_coherence_score(lda_model)"
   ]
  },
  {
   "cell_type": "code",
   "execution_count": 302,
   "id": "4fa3f812",
   "metadata": {},
   "outputs": [
    {
     "data": {
      "text/plain": [
       "[(0,\n",
       "  '0.109*\"item\" + 0.097*\"order\" + 0.072*\"amazon\" + 0.056*\"arriv\" + 0.050*\"return\"'),\n",
       " (1,\n",
       "  '0.148*\"coffe\" + 0.114*\"cup\" + 0.101*\"water\" + 0.053*\"press\" + 0.051*\"hot\"'),\n",
       " (2,\n",
       "  '0.156*\"pan\" + 0.096*\"cook\" + 0.064*\"dish\" + 0.056*\"bake\" + 0.049*\"oven\"'),\n",
       " (3,\n",
       "  '0.282*\"great\" + 0.238*\"work\" + 0.169*\"well\" + 0.153*\"product\" + 0.045*\"expect\"'),\n",
       " (4,\n",
       "  '0.028*\"like\" + 0.025*\"make\" + 0.021*\"get\" + 0.020*\"would\" + 0.020*\"clean\"'),\n",
       " (5,\n",
       "  '0.340*\"heavi\" + 0.118*\"cleaner\" + 0.089*\"ok\" + 0.059*\"duti\" + 0.047*\"tray\"'),\n",
       " (6,\n",
       "  '0.162*\"perfect\" + 0.129*\"size\" + 0.099*\"price\" + 0.086*\"fit\" + 0.055*\"store\"'),\n",
       " (7,\n",
       "  '0.626*\"good\" + 0.088*\"counter\" + 0.041*\"orang\" + 0.038*\"valu\" + 0.027*\"assembl\"'),\n",
       " (8,\n",
       "  '0.229*\"filter\" + 0.176*\"slice\" + 0.100*\"serv\" + 0.067*\"purpos\" + 0.048*\"fantast\"'),\n",
       " (9,\n",
       "  '0.230*\"bowl\" + 0.080*\"mix\" + 0.068*\"attach\" + 0.060*\"mixer\" + 0.035*\"power\"'),\n",
       " (10,\n",
       "  '0.270*\"qualiti\" + 0.232*\"recommend\" + 0.162*\"high\" + 0.108*\"excel\" + 0.067*\"definit\"'),\n",
       " (11,\n",
       "  '0.286*\"love\" + 0.078*\"best\" + 0.056*\"gift\" + 0.043*\"ever\" + 0.026*\"friend\"'),\n",
       " (12,\n",
       "  '0.417*\"easi\" + 0.055*\"link\" + 0.041*\"hook\" + 0.039*\"egg\" + 0.039*\"normal\"'),\n",
       " (13,\n",
       "  '0.108*\"look\" + 0.090*\"nice\" + 0.058*\"handl\" + 0.049*\"hold\" + 0.046*\"glass\"'),\n",
       " (14,\n",
       "  '0.097*\"use\" + 0.080*\"one\" + 0.041*\"time\" + 0.027*\"bought\" + 0.027*\"year\"'),\n",
       " (15,\n",
       "  '0.128*\"review\" + 0.096*\"say\" + 0.082*\"read\" + 0.043*\"said\" + 0.030*\"els\"'),\n",
       " (16,\n",
       "  '0.133*\"cut\" + 0.075*\"sharp\" + 0.068*\"cooki\" + 0.064*\"roll\" + 0.049*\"edg\"'),\n",
       " (17,\n",
       "  '0.057*\"hand\" + 0.051*\"lid\" + 0.048*\"food\" + 0.041*\"open\" + 0.037*\"jar\"'),\n",
       " (18,\n",
       "  '0.269*\"set\" + 0.210*\"cake\" + 0.193*\"measur\" + 0.032*\"batter\" + 0.023*\"cutter\"'),\n",
       " (19,\n",
       "  '0.110*\"test\" + 0.066*\"mat\" + 0.048*\"layer\" + 0.045*\"america\" + 0.044*\"stack\"')]"
      ]
     },
     "execution_count": 302,
     "metadata": {},
     "output_type": "execute_result"
    }
   ],
   "source": [
    "lda_model_20 = gensim.models.LdaModel(sb_corpus,alpha='auto', num_topics=20,id2word=sb_texts_dict, passes=20)\n",
    "\n",
    "lda_model_20.show_topics(num_topics=20,num_words=5)"
   ]
  },
  {
   "cell_type": "code",
   "execution_count": 303,
   "id": "1b6815c0",
   "metadata": {},
   "outputs": [
    {
     "data": {
      "text/plain": [
       "0.43027647708104205"
      ]
     },
     "execution_count": 303,
     "metadata": {},
     "output_type": "execute_result"
    }
   ],
   "source": [
    "get_coherence_score(lda_model_20)"
   ]
  },
  {
   "cell_type": "code",
   "execution_count": 304,
   "id": "b40e6ebc",
   "metadata": {},
   "outputs": [
    {
     "data": {
      "text/plain": [
       "[(0,\n",
       "  '0.109*\"item\" + 0.097*\"order\" + 0.072*\"amazon\" + 0.056*\"arriv\" + 0.050*\"return\" + 0.044*\"box\" + 0.043*\"thank\" + 0.042*\"ship\" + 0.034*\"packag\" + 0.031*\"fast\"'),\n",
       " (1,\n",
       "  '0.148*\"coffe\" + 0.114*\"cup\" + 0.101*\"water\" + 0.053*\"press\" + 0.051*\"hot\" + 0.046*\"pour\" + 0.045*\"pot\" + 0.024*\"iron\" + 0.022*\"tast\" + 0.019*\"cast\"'),\n",
       " (2,\n",
       "  '0.156*\"pan\" + 0.096*\"cook\" + 0.064*\"dish\" + 0.056*\"bake\" + 0.049*\"oven\" + 0.046*\"heat\" + 0.044*\"stick\" + 0.040*\"dishwash\" + 0.035*\"maker\" + 0.032*\"butter\"'),\n",
       " (3,\n",
       "  '0.282*\"great\" + 0.238*\"work\" + 0.169*\"well\" + 0.153*\"product\" + 0.045*\"expect\" + 0.036*\"fine\" + 0.012*\"rubber\" + 0.011*\"peel\" + 0.006*\"can\" + 0.005*\"mechan\"'),\n",
       " (4,\n",
       "  '0.028*\"like\" + 0.025*\"make\" + 0.021*\"get\" + 0.020*\"would\" + 0.020*\"clean\" + 0.016*\"use\" + 0.015*\"need\" + 0.013*\"much\" + 0.013*\"littl\" + 0.013*\"realli\"'),\n",
       " (5,\n",
       "  '0.340*\"heavi\" + 0.118*\"cleaner\" + 0.089*\"ok\" + 0.059*\"duti\" + 0.047*\"tray\" + 0.032*\"defect\" + 0.026*\"charm\" + 0.019*\"im\" + 0.017*\"summer\" + 0.016*\"stabl\"'),\n",
       " (6,\n",
       "  '0.162*\"perfect\" + 0.129*\"size\" + 0.099*\"price\" + 0.086*\"fit\" + 0.055*\"store\" + 0.046*\"happi\" + 0.045*\"color\" + 0.040*\"exact\" + 0.035*\"beauti\" + 0.033*\"carpet\"'),\n",
       " (7,\n",
       "  '0.626*\"good\" + 0.088*\"counter\" + 0.041*\"orang\" + 0.038*\"valu\" + 0.027*\"assembl\" + 0.013*\"organ\" + 0.012*\"reliabl\" + 0.010*\"garden\" + 0.008*\"sooner\" + 0.008*\"transfer\"'),\n",
       " (8,\n",
       "  '0.229*\"filter\" + 0.176*\"slice\" + 0.100*\"serv\" + 0.067*\"purpos\" + 0.048*\"fantast\" + 0.019*\"dust\" + 0.014*\"razor\" + 0.013*\"superior\" + 0.012*\"compliment\" + 0.011*\"doesnt\"'),\n",
       " (9,\n",
       "  '0.230*\"bowl\" + 0.080*\"mix\" + 0.068*\"attach\" + 0.060*\"mixer\" + 0.035*\"power\" + 0.030*\"wrap\" + 0.028*\"fan\" + 0.025*\"cabinet\" + 0.023*\"sound\" + 0.022*\"loud\"'),\n",
       " (10,\n",
       "  '0.270*\"qualiti\" + 0.232*\"recommend\" + 0.162*\"high\" + 0.108*\"excel\" + 0.067*\"definit\" + 0.020*\"oz\" + 0.018*\"manual\" + 0.016*\"taco\" + 0.013*\"stiff\" + 0.009*\"arm\"'),\n",
       " (11,\n",
       "  '0.286*\"love\" + 0.078*\"best\" + 0.056*\"gift\" + 0.043*\"ever\" + 0.026*\"friend\" + 0.024*\"awesom\" + 0.023*\"wife\" + 0.022*\"christma\" + 0.021*\"husband\" + 0.021*\"famili\"'),\n",
       " (12,\n",
       "  '0.417*\"easi\" + 0.055*\"link\" + 0.041*\"hook\" + 0.039*\"egg\" + 0.039*\"normal\" + 0.031*\"rice\" + 0.026*\"class\" + 0.020*\"ie\" + 0.019*\"ref\" + 0.019*\"wine\"'),\n",
       " (13,\n",
       "  '0.108*\"look\" + 0.090*\"nice\" + 0.058*\"handl\" + 0.049*\"hold\" + 0.046*\"glass\" + 0.041*\"plastic\" + 0.034*\"piec\" + 0.031*\"sturdi\" + 0.022*\"feel\" + 0.021*\"broke\"'),\n",
       " (14,\n",
       "  '0.097*\"use\" + 0.080*\"one\" + 0.041*\"time\" + 0.027*\"bought\" + 0.027*\"year\" + 0.023*\"purchas\" + 0.023*\"made\" + 0.022*\"buy\" + 0.016*\"first\" + 0.016*\"two\"'),\n",
       " (15,\n",
       "  '0.128*\"review\" + 0.096*\"say\" + 0.082*\"read\" + 0.043*\"said\" + 0.030*\"els\" + 0.029*\"wrong\" + 0.027*\"scissor\" + 0.026*\"instruct\" + 0.018*\"bone\" + 0.017*\"mention\"'),\n",
       " (16,\n",
       "  '0.133*\"cut\" + 0.075*\"sharp\" + 0.068*\"cooki\" + 0.064*\"roll\" + 0.049*\"edg\" + 0.046*\"tool\" + 0.044*\"scoop\" + 0.042*\"board\" + 0.040*\"dough\" + 0.037*\"durabl\"'),\n",
       " (17,\n",
       "  '0.057*\"hand\" + 0.051*\"lid\" + 0.048*\"food\" + 0.041*\"open\" + 0.037*\"jar\" + 0.033*\"wash\" + 0.033*\"bag\" + 0.030*\"chees\" + 0.024*\"ice\" + 0.022*\"contain\"'),\n",
       " (18,\n",
       "  '0.269*\"set\" + 0.210*\"cake\" + 0.193*\"measur\" + 0.032*\"batter\" + 0.023*\"cutter\" + 0.014*\"west\" + 0.013*\"eleg\" + 0.011*\"alot\" + 0.010*\"w\" + 0.009*\"countri\"'),\n",
       " (19,\n",
       "  '0.110*\"test\" + 0.066*\"mat\" + 0.048*\"layer\" + 0.045*\"america\" + 0.044*\"stack\" + 0.034*\"dirt\" + 0.031*\"effici\" + 0.028*\"guy\" + 0.021*\"therefor\" + 0.019*\"happier\"')]"
      ]
     },
     "execution_count": 304,
     "metadata": {},
     "output_type": "execute_result"
    }
   ],
   "source": [
    "lda_model_20.show_topics(num_topics=20,num_words=10)"
   ]
  },
  {
   "cell_type": "code",
   "execution_count": null,
   "id": "df11e911",
   "metadata": {},
   "outputs": [],
   "source": []
  },
  {
   "cell_type": "code",
   "execution_count": 286,
   "id": "98e7f9a7",
   "metadata": {},
   "outputs": [],
   "source": [
    "models = [model, model_10, model_15, model_20, model_25]\n",
    "scores = []\n",
    "for i in models: \n",
    "    scores.append(get_coherence_score(i))\n",
    "    "
   ]
  },
  {
   "cell_type": "code",
   "execution_count": 287,
   "id": "f0695b3f",
   "metadata": {},
   "outputs": [
    {
     "data": {
      "text/plain": [
       "[0.4507248195220431,\n",
       " 0.505085503980148,\n",
       " 0.5403750777115519,\n",
       " 0.544409689283705,\n",
       " 0.5415424667593949]"
      ]
     },
     "execution_count": 287,
     "metadata": {},
     "output_type": "execute_result"
    }
   ],
   "source": [
    "scores"
   ]
  },
  {
   "cell_type": "code",
   "execution_count": 288,
   "id": "988ce995",
   "metadata": {},
   "outputs": [
    {
     "data": {
      "text/plain": [
       "[<matplotlib.lines.Line2D at 0x7fa29c481fd0>]"
      ]
     },
     "execution_count": 288,
     "metadata": {},
     "output_type": "execute_result"
    },
    {
     "data": {
      "image/png": "[encoded data removed]",
      "text/plain": [
       "<Figure size 432x288 with 1 Axes>"
      ]
     },
     "metadata": {
      "needs_background": "light"
     },
     "output_type": "display_data"
    }
   ],
   "source": [
    "import matplotlib.pyplot as plt\n",
    "\n",
    "plt.plot(scores)"
   ]
  },
  {
   "cell_type": "markdown",
   "id": "457cb515",
   "metadata": {},
   "source": [
    "### We can see the model 20 getting the best coherence result"
   ]
  },
  {
   "cell_type": "markdown",
   "id": "030f77fb",
   "metadata": {},
   "source": [
    "### Now lets see if the topic is intuitive for human (like me)"
   ]
  },
  {
   "cell_type": "code",
   "execution_count": 291,
   "id": "8f1980fb",
   "metadata": {},
   "outputs": [
    {
     "data": {
      "text/plain": [
       "[(0, '0.024*\"time\" + 0.024*\"use\" + 0.015*\"read\" + 0.014*\"get\" + 0.014*\"oven\"'),\n",
       " (1,\n",
       "  '0.095*\"coffe\" + 0.040*\"cup\" + 0.032*\"press\" + 0.023*\"make\" + 0.018*\"maker\"'),\n",
       " (2,\n",
       "  '0.018*\"one\" + 0.017*\"amazon\" + 0.016*\"product\" + 0.015*\"review\" + 0.014*\"order\"'),\n",
       " (3,\n",
       "  '0.091*\"best\" + 0.085*\"cut\" + 0.056*\"ever\" + 0.051*\"slice\" + 0.027*\"board\"'),\n",
       " (4,\n",
       "  '0.017*\"one\" + 0.014*\"use\" + 0.013*\"handl\" + 0.011*\"like\" + 0.011*\"plastic\"'),\n",
       " (5,\n",
       "  '0.103*\"knife\" + 0.041*\"sharp\" + 0.032*\"knive\" + 0.023*\"use\" + 0.020*\"kitchen\"'),\n",
       " (6,\n",
       "  '0.122*\"easi\" + 0.114*\"clean\" + 0.095*\"use\" + 0.023*\"great\" + 0.021*\"love\"'),\n",
       " (7, '0.029*\"air\" + 0.028*\"room\" + 0.021*\"fan\" + 0.018*\"unit\" + 0.010*\"loud\"'),\n",
       " (8,\n",
       "  '0.073*\"water\" + 0.030*\"lid\" + 0.026*\"cup\" + 0.025*\"measur\" + 0.017*\"seal\"'),\n",
       " (9,\n",
       "  '0.097*\"pan\" + 0.024*\"iron\" + 0.023*\"stick\" + 0.020*\"grill\" + 0.020*\"use\"'),\n",
       " (10,\n",
       "  '0.063*\"cook\" + 0.030*\"use\" + 0.019*\"meat\" + 0.017*\"rice\" + 0.016*\"make\"'),\n",
       " (11,\n",
       "  '0.264*\"great\" + 0.259*\"work\" + 0.077*\"well\" + 0.028*\"product\" + 0.020*\"price\"'),\n",
       " (12,\n",
       "  '0.033*\"bowl\" + 0.027*\"use\" + 0.027*\"garlic\" + 0.023*\"jar\" + 0.017*\"food\"'),\n",
       " (13,\n",
       "  '0.053*\"perfect\" + 0.050*\"nice\" + 0.047*\"size\" + 0.042*\"look\" + 0.031*\"fit\"'),\n",
       " (14,\n",
       "  '0.041*\"carpet\" + 0.023*\"vacuum\" + 0.023*\"cleaner\" + 0.020*\"bag\" + 0.017*\"clean\"'),\n",
       " (15,\n",
       "  '0.079*\"one\" + 0.049*\"year\" + 0.046*\"love\" + 0.040*\"use\" + 0.030*\"bought\"'),\n",
       " (16,\n",
       "  '0.071*\"glass\" + 0.057*\"bottl\" + 0.039*\"tea\" + 0.022*\"drink\" + 0.021*\"wine\"'),\n",
       " (17,\n",
       "  '0.088*\"good\" + 0.081*\"product\" + 0.063*\"qualiti\" + 0.049*\"price\" + 0.036*\"great\"'),\n",
       " (18,\n",
       "  '0.115*\"filter\" + 0.038*\"machin\" + 0.021*\"tast\" + 0.011*\"milk\" + 0.010*\"system\"'),\n",
       " (19,\n",
       "  '0.039*\"make\" + 0.035*\"bake\" + 0.033*\"cake\" + 0.032*\"cooki\" + 0.024*\"use\"')]"
      ]
     },
     "execution_count": 291,
     "metadata": {},
     "output_type": "execute_result"
    }
   ],
   "source": [
    "model_20.show_topics(num_topics = 20, num_words =5)"
   ]
  },
  {
   "cell_type": "code",
   "execution_count": 308,
   "id": "f3cafeef",
   "metadata": {},
   "outputs": [
    {
     "data": {
      "text/plain": [
       "[(0,\n",
       "  '0.061*\"knife\" + 0.045*\"cut\" + 0.026*\"sharp\" + 0.022*\"slice\" + 0.020*\"blade\"'),\n",
       " (1,\n",
       "  '0.033*\"one\" + 0.012*\"time\" + 0.012*\"would\" + 0.011*\"year\" + 0.011*\"use\"'),\n",
       " (2,\n",
       "  '0.036*\"use\" + 0.027*\"great\" + 0.018*\"love\" + 0.015*\"make\" + 0.014*\"work\"'),\n",
       " (3,\n",
       "  '0.042*\"clean\" + 0.039*\"carpet\" + 0.028*\"bottl\" + 0.028*\"marbl\" + 0.026*\"brush\"'),\n",
       " (4,\n",
       "  '0.111*\"coffe\" + 0.086*\"cup\" + 0.076*\"water\" + 0.035*\"pour\" + 0.034*\"filter\"')]"
      ]
     },
     "execution_count": 308,
     "metadata": {},
     "output_type": "execute_result"
    }
   ],
   "source": [
    "lda_model.show_topics(num_topics = 5, num_words =5)"
   ]
  },
  {
   "cell_type": "code",
   "execution_count": 309,
   "id": "5e46fb11",
   "metadata": {},
   "outputs": [
    {
     "data": {
      "text/plain": [
       "[(0,\n",
       "  '0.109*\"item\" + 0.097*\"order\" + 0.072*\"amazon\" + 0.056*\"arriv\" + 0.050*\"return\"'),\n",
       " (1,\n",
       "  '0.148*\"coffe\" + 0.114*\"cup\" + 0.101*\"water\" + 0.053*\"press\" + 0.051*\"hot\"'),\n",
       " (2,\n",
       "  '0.156*\"pan\" + 0.096*\"cook\" + 0.064*\"dish\" + 0.056*\"bake\" + 0.049*\"oven\"'),\n",
       " (3,\n",
       "  '0.282*\"great\" + 0.238*\"work\" + 0.169*\"well\" + 0.153*\"product\" + 0.045*\"expect\"'),\n",
       " (4,\n",
       "  '0.028*\"like\" + 0.025*\"make\" + 0.021*\"get\" + 0.020*\"would\" + 0.020*\"clean\"'),\n",
       " (5,\n",
       "  '0.340*\"heavi\" + 0.118*\"cleaner\" + 0.089*\"ok\" + 0.059*\"duti\" + 0.047*\"tray\"'),\n",
       " (6,\n",
       "  '0.162*\"perfect\" + 0.129*\"size\" + 0.099*\"price\" + 0.086*\"fit\" + 0.055*\"store\"'),\n",
       " (7,\n",
       "  '0.626*\"good\" + 0.088*\"counter\" + 0.041*\"orang\" + 0.038*\"valu\" + 0.027*\"assembl\"'),\n",
       " (8,\n",
       "  '0.229*\"filter\" + 0.176*\"slice\" + 0.100*\"serv\" + 0.067*\"purpos\" + 0.048*\"fantast\"'),\n",
       " (9,\n",
       "  '0.230*\"bowl\" + 0.080*\"mix\" + 0.068*\"attach\" + 0.060*\"mixer\" + 0.035*\"power\"'),\n",
       " (10,\n",
       "  '0.270*\"qualiti\" + 0.232*\"recommend\" + 0.162*\"high\" + 0.108*\"excel\" + 0.067*\"definit\"'),\n",
       " (11,\n",
       "  '0.286*\"love\" + 0.078*\"best\" + 0.056*\"gift\" + 0.043*\"ever\" + 0.026*\"friend\"'),\n",
       " (12,\n",
       "  '0.417*\"easi\" + 0.055*\"link\" + 0.041*\"hook\" + 0.039*\"egg\" + 0.039*\"normal\"'),\n",
       " (13,\n",
       "  '0.108*\"look\" + 0.090*\"nice\" + 0.058*\"handl\" + 0.049*\"hold\" + 0.046*\"glass\"'),\n",
       " (14,\n",
       "  '0.097*\"use\" + 0.080*\"one\" + 0.041*\"time\" + 0.027*\"bought\" + 0.027*\"year\"'),\n",
       " (15,\n",
       "  '0.128*\"review\" + 0.096*\"say\" + 0.082*\"read\" + 0.043*\"said\" + 0.030*\"els\"'),\n",
       " (16,\n",
       "  '0.133*\"cut\" + 0.075*\"sharp\" + 0.068*\"cooki\" + 0.064*\"roll\" + 0.049*\"edg\"'),\n",
       " (17,\n",
       "  '0.057*\"hand\" + 0.051*\"lid\" + 0.048*\"food\" + 0.041*\"open\" + 0.037*\"jar\"'),\n",
       " (18,\n",
       "  '0.269*\"set\" + 0.210*\"cake\" + 0.193*\"measur\" + 0.032*\"batter\" + 0.023*\"cutter\"'),\n",
       " (19,\n",
       "  '0.110*\"test\" + 0.066*\"mat\" + 0.048*\"layer\" + 0.045*\"america\" + 0.044*\"stack\"')]"
      ]
     },
     "execution_count": 309,
     "metadata": {},
     "output_type": "execute_result"
    }
   ],
   "source": [
    "lda_model_20.show_topics(num_topics = 20, num_words =5)"
   ]
  },
  {
   "cell_type": "code",
   "execution_count": 310,
   "id": "e1ffbe72",
   "metadata": {},
   "outputs": [
    {
     "data": {
      "text/plain": [
       "\"My wife bought this book for us and I just bought a copy for my friend's family because it is so so great! We loved the book. It was well written and easy for my 10 year old to read. I loved all of the different characters and see many new story lines for each ornament. Oliver has a great message to teach kids and a great holiday story. This will be a great addition to our Christmas traditions. Can't wait to share this with many others!\""
      ]
     },
     "execution_count": 310,
     "metadata": {},
     "output_type": "execute_result"
    }
   ],
   "source": [
    "cleaned_text[100]"
   ]
  },
  {
   "cell_type": "code",
   "execution_count": 311,
   "id": "6ef5b883",
   "metadata": {},
   "outputs": [
    {
     "data": {
      "text/plain": [
       "[(2, 0.2270049168697824),\n",
       " (6, 0.028070840778456733),\n",
       " (10, 0.09166732284487177),\n",
       " (11, 0.11963930996996504),\n",
       " (15, 0.48634604466964365),\n",
       " (18, 0.03136247377971932)]"
      ]
     },
     "execution_count": 311,
     "metadata": {},
     "output_type": "execute_result"
    }
   ],
   "source": [
    "model_20[sb_corpus[100]]"
   ]
  },
  {
   "cell_type": "code",
   "execution_count": 312,
   "id": "f45412c8",
   "metadata": {},
   "outputs": [
    {
     "data": {
      "text/plain": [
       "[(1, 0.5360107), (2, 0.44886497)]"
      ]
     },
     "execution_count": 312,
     "metadata": {},
     "output_type": "execute_result"
    }
   ],
   "source": [
    "lda_model[sb_corpus[100]]"
   ]
  },
  {
   "cell_type": "code",
   "execution_count": 313,
   "id": "f82f4477",
   "metadata": {},
   "outputs": [
    {
     "data": {
      "text/plain": [
       "[(0, 0.025073307),\n",
       " (1, 0.014126736),\n",
       " (2, 0.04214069),\n",
       " (3, 0.09533815),\n",
       " (4, 0.21953374),\n",
       " (6, 0.016748365),\n",
       " (11, 0.14419077),\n",
       " (12, 0.020467699),\n",
       " (13, 0.020968208),\n",
       " (14, 0.26328394),\n",
       " (15, 0.066886485),\n",
       " (17, 0.030204039)]"
      ]
     },
     "execution_count": 313,
     "metadata": {},
     "output_type": "execute_result"
    }
   ],
   "source": [
    "lda_model_20[sb_corpus[100]]"
   ]
  },
  {
   "cell_type": "markdown",
   "id": "748e3b4a",
   "metadata": {},
   "source": [
    "### all three models predict this review is about the product that the person bought for at least a year. Which is makes sense to me But what I expect is the topic is related to the book products."
   ]
  },
  {
   "cell_type": "code",
   "execution_count": 315,
   "id": "d5452e71",
   "metadata": {},
   "outputs": [
    {
     "data": {
      "text/plain": [
       "\"Comfortable to use for with temperature beverage and fits in all my car's tiny cup holders without tipping. Not dishwashing, though. Handwash only.\""
      ]
     },
     "execution_count": 315,
     "metadata": {},
     "output_type": "execute_result"
    }
   ],
   "source": [
    "cleaned_text[20]"
   ]
  },
  {
   "cell_type": "code",
   "execution_count": 316,
   "id": "342dd025",
   "metadata": {},
   "outputs": [
    {
     "data": {
      "text/plain": [
       "[(0, 0.0919971170637754), (6, 0.21409129904307816), (8, 0.6372449160866922)]"
      ]
     },
     "execution_count": 316,
     "metadata": {},
     "output_type": "execute_result"
    }
   ],
   "source": [
    "model_20[sb_corpus[20]]"
   ]
  },
  {
   "cell_type": "code",
   "execution_count": 317,
   "id": "57c0c729",
   "metadata": {},
   "outputs": [
    {
     "data": {
      "text/plain": [
       "[(0, 0.1391819),\n",
       " (1, 0.18769242),\n",
       " (2, 0.4721105),\n",
       " (3, 0.012270988),\n",
       " (4, 0.18874416)]"
      ]
     },
     "execution_count": 317,
     "metadata": {},
     "output_type": "execute_result"
    }
   ],
   "source": [
    "lda_model[sb_corpus[20]]"
   ]
  },
  {
   "cell_type": "code",
   "execution_count": 318,
   "id": "9995d136",
   "metadata": {},
   "outputs": [
    {
     "data": {
      "text/plain": [
       "[(0, 0.018084005),\n",
       " (1, 0.048789807),\n",
       " (2, 0.07040323),\n",
       " (3, 0.038302314),\n",
       " (4, 0.3500541),\n",
       " (6, 0.052626517),\n",
       " (7, 0.0112866135),\n",
       " (10, 0.03620902),\n",
       " (11, 0.024484698),\n",
       " (12, 0.010017516),\n",
       " (13, 0.084158316),\n",
       " (14, 0.14426544),\n",
       " (15, 0.014283783),\n",
       " (16, 0.012242328),\n",
       " (17, 0.051084016)]"
      ]
     },
     "execution_count": 318,
     "metadata": {},
     "output_type": "execute_result"
    }
   ],
   "source": [
    "lda_model_20[sb_corpus[20]]"
   ]
  },
  {
   "cell_type": "markdown",
   "id": "d8fbac47",
   "metadata": {},
   "source": [
    "### The review is about the beverage store products. Like a cup or mug. From the observation, I believe model_20 is getting the best result. The topic is related to the water, which is makes sense to me. The other also relavent, which indicates its a good review. "
   ]
  },
  {
   "cell_type": "markdown",
   "id": "2d07afc0",
   "metadata": {},
   "source": [
    "### Even thought the LDA_model with 5 topic has the highest coherence result, I still belive model_20 is the best model. "
   ]
  },
  {
   "cell_type": "code",
   "execution_count": 319,
   "id": "7e01d4d1",
   "metadata": {},
   "outputs": [],
   "source": [
    "import pickle\n",
    " \n",
    "# Save the best score. \n",
    "with open('best.model', 'wb') as files:\n",
    "    pickle.dump(model_20, files)"
   ]
  },
  {
   "cell_type": "code",
   "execution_count": null,
   "id": "002a34c1",
   "metadata": {},
   "outputs": [],
   "source": []
  }
 ],
 "metadata": {
  "kernelspec": {
   "display_name": "Python 3",
   "language": "python",
   "name": "python3"
  },
  "language_info": {
   "codemirror_mode": {
    "name": "ipython",
    "version": 3
   },
   "file_extension": ".py",
   "mimetype": "text/x-python",
   "name": "python",
   "nbconvert_exporter": "python",
   "pygments_lexer": "ipython3",
   "version": "3.8.8"
  }
 },
 "nbformat": 4,
 "nbformat_minor": 5
}
