{
 "cells": [
  {
   "cell_type": "code",
   "execution_count": 6,
   "id": "3c2fe179",
   "metadata": {},
   "outputs": [],
   "source": [
    "import os\n",
    "import numpy as np\n",
    "import gzip\n",
    "import matplotlib\n",
    "import matplotlib.pyplot as plt\n",
    "\n",
    "from sklearn.linear_model import LogisticRegression"
   ]
  },
  {
   "cell_type": "markdown",
   "id": "35212bf7",
   "metadata": {},
   "source": [
    "# Data Exploration"
   ]
  },
  {
   "cell_type": "markdown",
   "id": "f0abdfce",
   "metadata": {},
   "source": [
    "### Read the training data from the gz file. "
   ]
  },
  {
   "cell_type": "code",
   "execution_count": 13,
   "id": "e4ad03f3",
   "metadata": {},
   "outputs": [],
   "source": [
    "def training_images():\n",
    "    with gzip.open('train-images-idx3-ubyte.gz', 'r') as f:\n",
    "        magic_number = int.from_bytes(f.read(4), 'big')\n",
    "        image_count = int.from_bytes(f.read(4), 'big')\n",
    "        row_count = int.from_bytes(f.read(4), 'big')\n",
    "        column_count = int.from_bytes(f.read(4), 'big')\n",
    "        image_data = f.read()\n",
    "        images = np.frombuffer(image_data, dtype=np.uint8)\\\n",
    "            .reshape((image_count, row_count, column_count))\n",
    "        return images\n",
    "\n",
    "\n",
    "def training_labels():\n",
    "    with gzip.open('train-labels-idx1-ubyte.gz', 'r') as f:\n",
    "        magic_number = int.from_bytes(f.read(4), 'big')\n",
    "        label_count = int.from_bytes(f.read(4), 'big')\n",
    "        label_data = f.read()\n",
    "        labels = np.frombuffer(label_data, dtype=np.uint8)\n",
    "        return labels\n"
   ]
  },
  {
   "cell_type": "code",
   "execution_count": 14,
   "id": "b22ed032",
   "metadata": {},
   "outputs": [],
   "source": [
    "train_data = training_images()\n",
    "train_labels = training_labels()"
   ]
  },
  {
   "cell_type": "code",
   "execution_count": 15,
   "id": "a5abdd0e",
   "metadata": {},
   "outputs": [
    {
     "name": "stdout",
     "output_type": "stream",
     "text": [
      "Image Data Shape (60000, 28, 28)\n",
      "Label Data Shape (60000,)\n"
     ]
    }
   ],
   "source": [
    "print('Image Data Shape', train_data.shape)\n",
    "print('Label Data Shape', train_labels.shape)"
   ]
  },
  {
   "cell_type": "markdown",
   "id": "d6c2c15a",
   "metadata": {},
   "source": [
    "#### We can see the Image Data has 3 dimensions, which will not working on the logistic regression. So we need to reshape the Image data to 2D, and fit the logistic regression model."
   ]
  },
  {
   "cell_type": "code",
   "execution_count": 16,
   "id": "2dcadef3",
   "metadata": {},
   "outputs": [],
   "source": [
    "nsamples, nx, ny = train_data.shape\n",
    "x_train = train_data.reshape((nsamples,nx*ny))"
   ]
  },
  {
   "cell_type": "code",
   "execution_count": 17,
   "id": "6457ef9c",
   "metadata": {},
   "outputs": [
    {
     "name": "stdout",
     "output_type": "stream",
     "text": [
      "Image Data Shape (60000, 784)\n",
      "Label Data Shape (60000,)\n"
     ]
    }
   ],
   "source": [
    "print('Image Data Shape', x_train.shape)\n",
    "print('Label Data Shape', train_labels.shape)"
   ]
  },
  {
   "cell_type": "markdown",
   "id": "a238947e",
   "metadata": {},
   "source": [
    "#### We can see that the training dataset has 60000 samples. Here we print out 10 samples to see if the picture and labels are matched."
   ]
  },
  {
   "cell_type": "code",
   "execution_count": 18,
   "id": "57ebb83e",
   "metadata": {},
   "outputs": [
    {
     "data": {
      "image/png": "[encoded data removed]",
      "text/plain": [
       "<Figure size 1440x288 with 10 Axes>"
      ]
     },
     "metadata": {
      "needs_background": "light"
     },
     "output_type": "display_data"
    }
   ],
   "source": [
    "plt.figure(figsize=(20, 4))\n",
    "for idx, (image, label) in enumerate (zip(x_train[0:10], train_labels[0:10])): \n",
    "    plt.subplot(1, 10, idx +1)\n",
    "    plt.imshow(np.reshape(image, (28,28)), cmap=plt.cm.gray)\n",
    "    plt.title('Training: %i\\n'%label, fontsize = 20)"
   ]
  },
  {
   "cell_type": "markdown",
   "id": "2bca4f88",
   "metadata": {},
   "source": [
    "#### Now, we set up our Logistic Regression Model. and fit the training dataset. "
   ]
  },
  {
   "cell_type": "code",
   "execution_count": 29,
   "id": "c1e89ad8",
   "metadata": {},
   "outputs": [],
   "source": [
    "lr = LogisticRegression()"
   ]
  },
  {
   "cell_type": "code",
   "execution_count": 30,
   "id": "23ff870b",
   "metadata": {},
   "outputs": [
    {
     "name": "stderr",
     "output_type": "stream",
     "text": [
      "/Users/phoebeli/opt/anaconda3/lib/python3.8/site-packages/sklearn/linear_model/_logistic.py:763: ConvergenceWarning: lbfgs failed to converge (status=1):\n",
      "STOP: TOTAL NO. of ITERATIONS REACHED LIMIT.\n",
      "\n",
      "Increase the number of iterations (max_iter) or scale the data as shown in:\n",
      "    https://scikit-learn.org/stable/modules/preprocessing.html\n",
      "Please also refer to the documentation for alternative solver options:\n",
      "    https://scikit-learn.org/stable/modules/linear_model.html#logistic-regression\n",
      "  n_iter_i = _check_optimize_result(\n"
     ]
    },
    {
     "data": {
      "text/plain": [
       "LogisticRegression()"
      ]
     },
     "execution_count": 30,
     "metadata": {},
     "output_type": "execute_result"
    }
   ],
   "source": [
    "lr.fit(x_train, train_labels)"
   ]
  },
  {
   "cell_type": "markdown",
   "id": "84f839a9",
   "metadata": {},
   "source": [
    "#### Similarly, we read the test data and reshape the image to 2-D and used the pre-trained model to predict the Labels. "
   ]
  },
  {
   "cell_type": "code",
   "execution_count": 32,
   "id": "e47a854a",
   "metadata": {},
   "outputs": [],
   "source": [
    "def test_images():\n",
    "    with gzip.open('t10k-images-idx3-ubyte.gz', 'r') as f:\n",
    "        magic_number = int.from_bytes(f.read(4), 'big')\n",
    "        image_count = int.from_bytes(f.read(4), 'big')\n",
    "        row_count = int.from_bytes(f.read(4), 'big')\n",
    "        column_count = int.from_bytes(f.read(4), 'big')\n",
    "        image_data = f.read()\n",
    "        images = np.frombuffer(image_data, dtype=np.uint8)\\\n",
    "            .reshape((image_count, row_count, column_count))\n",
    "        return images\n",
    "    \n",
    "def test_labels():\n",
    "    with gzip.open('t10k-labels-idx1-ubyte.gz', 'r') as f:\n",
    "        magic_number = int.from_bytes(f.read(4), 'big')\n",
    "        label_count = int.from_bytes(f.read(4), 'big')\n",
    "        label_data = f.read()\n",
    "        labels = np.frombuffer(label_data, dtype=np.uint8)\n",
    "        return labels"
   ]
  },
  {
   "cell_type": "code",
   "execution_count": 33,
   "id": "d63ac8e6",
   "metadata": {},
   "outputs": [],
   "source": [
    "test_data = test_images()\n",
    "y_test = test_labels()"
   ]
  },
  {
   "cell_type": "code",
   "execution_count": 34,
   "id": "eb2f3ce3",
   "metadata": {},
   "outputs": [],
   "source": [
    "nsamples, nx, ny = test_data.shape\n",
    "x_test = test_data.reshape((nsamples,nx*ny))"
   ]
  },
  {
   "cell_type": "code",
   "execution_count": 35,
   "id": "a1567121",
   "metadata": {},
   "outputs": [
    {
     "name": "stdout",
     "output_type": "stream",
     "text": [
      "Test Data Shape (10000, 784)\n",
      "Test Label Data Shape (10000,)\n"
     ]
    }
   ],
   "source": [
    "print('Test Data Shape', x_test.shape)\n",
    "print('Test Label Data Shape', y_test.shape)"
   ]
  },
  {
   "cell_type": "code",
   "execution_count": 38,
   "id": "8bea4de1",
   "metadata": {},
   "outputs": [],
   "source": [
    "predictions = lr.predict(x_test)"
   ]
  },
  {
   "cell_type": "markdown",
   "id": "0d7b8b1d",
   "metadata": {},
   "source": [
    "#### To evaluate the preicted accuracy, we can use score or simply compaire the y_test and predictions"
   ]
  },
  {
   "cell_type": "code",
   "execution_count": 42,
   "id": "71e70934",
   "metadata": {},
   "outputs": [
    {
     "name": "stdout",
     "output_type": "stream",
     "text": [
      "0.9255\n"
     ]
    }
   ],
   "source": [
    "#Method 1\n",
    "accuracy = lr.score(x_test, y_test)\n",
    "print(accuracy)"
   ]
  },
  {
   "cell_type": "code",
   "execution_count": 46,
   "id": "726d2e39",
   "metadata": {},
   "outputs": [
    {
     "name": "stdout",
     "output_type": "stream",
     "text": [
      "0.9255\n"
     ]
    }
   ],
   "source": [
    "#Method 2\n",
    "def accuracy_rate(predictions, y_test): \n",
    "    acc = 0\n",
    "    for i in range(len(predictions)): \n",
    "        if predictions[i] == y_test[i]: \n",
    "            acc +=1 \n",
    "\n",
    "    ratio = acc/len(predictions)\n",
    "    print(ratio)\n",
    "    \n",
    "accuracy_rate(predictions, y_test)"
   ]
  },
  {
   "cell_type": "code",
   "execution_count": 92,
   "id": "a40fe3db",
   "metadata": {},
   "outputs": [
    {
     "name": "stdout",
     "output_type": "stream",
     "text": [
      "Accuracy = 92.55 %\n"
     ]
    }
   ],
   "source": [
    "#Method 3\n",
    "from sklearn.metrics import accuracy_score\n",
    "print (\"Accuracy = {} %\".format(accuracy_score(y_test, predictions)*100))"
   ]
  },
  {
   "cell_type": "markdown",
   "id": "df831a17",
   "metadata": {},
   "source": [
    "#### Now we can use confusion matrics to further inspect the model performance."
   ]
  },
  {
   "cell_type": "code",
   "execution_count": 57,
   "id": "83ea6fd1",
   "metadata": {},
   "outputs": [],
   "source": [
    "from sklearn import metrics"
   ]
  },
  {
   "cell_type": "code",
   "execution_count": 102,
   "id": "2d63fd39",
   "metadata": {},
   "outputs": [
    {
     "data": {
      "text/plain": [
       "array([[ 963,    0,    0,    3,    1,    3,    4,    4,    2,    0],\n",
       "       [   0, 1112,    4,    2,    0,    1,    3,    2,   11,    0],\n",
       "       [   3,   10,  926,   15,    6,    4,   15,    8,   42,    3],\n",
       "       [   4,    1,   21,  916,    1,   26,    3,    9,   22,    7],\n",
       "       [   1,    1,    7,    3,  910,    0,    9,    7,   10,   34],\n",
       "       [  11,    2,    1,   33,   11,  776,   11,    6,   35,    6],\n",
       "       [   9,    3,    7,    3,    7,   16,  910,    2,    1,    0],\n",
       "       [   1,    6,   24,    5,    7,    1,    0,  951,    3,   30],\n",
       "       [   8,    7,    6,   23,    6,   26,   10,   10,  869,    9],\n",
       "       [   9,    7,    0,   11,   25,    6,    0,   22,    7,  922]])"
      ]
     },
     "execution_count": 102,
     "metadata": {},
     "output_type": "execute_result"
    }
   ],
   "source": [
    "cm = metrics.confusion_matrix(y_test, predictions)\n",
    "cm"
   ]
  },
  {
   "cell_type": "code",
   "execution_count": 104,
   "id": "3d54fbd8",
   "metadata": {},
   "outputs": [
    {
     "data": {
      "image/png": "[encoded data removed]",
      "text/plain": [
       "<Figure size 576x576 with 1 Axes>"
      ]
     },
     "metadata": {
      "needs_background": "light"
     },
     "output_type": "display_data"
    }
   ],
   "source": [
    "plt.figure(figsize=(8,8))\n",
    "plt.imshow(cm)\n",
    "plt.title('LR Confusion matrix', size = 20)\n",
    "plt.xticks(tick_marks, [\"0\", \"1\", \"2\", \"3\", \"4\", \"5\", \"6\", \"7\", \"8\", \"9\"], rotation=90, size = 10)\n",
    "plt.yticks(tick_marks, [\"0\", \"1\", \"2\", \"3\", \"4\", \"5\", \"6\", \"7\", \"8\", \"9\"], size = 10)\n",
    "plt.ylabel('Target Label', size = 20)\n",
    "plt.xlabel('Predicted Label', size = 20)\n",
    "width, height = cm.shape\n",
    "for x in range(width):\n",
    "    for y in range(height):\n",
    "        plt.annotate(str(cm[x][y]), xy=(y, x), \n",
    "horizontalalignment='center',\n",
    "verticalalignment='center')"
   ]
  },
  {
   "cell_type": "markdown",
   "id": "bf57e3f4",
   "metadata": {},
   "source": [
    "#### We can see the diagnose represents how many labels are correctly by predicted. Other is just lr models' wrong predictions. \n",
    "#### For example, for coordinates: x-axis 0, y-axis 9. It means the model predict the image as number 0, but the \n",
    "#### actual labels is 9. "
   ]
  },
  {
   "cell_type": "markdown",
   "id": "f0984b0a",
   "metadata": {},
   "source": [
    "#### Now we can save our trained ML model to local for the further useage. "
   ]
  },
  {
   "cell_type": "code",
   "execution_count": 45,
   "id": "8c9baab1",
   "metadata": {},
   "outputs": [],
   "source": [
    "import pickle\n",
    " \n",
    "trained_lr = pickle.dumps(lr)\n",
    "\n",
    "#Testing if the loaded ML model works\n",
    "lr_from_pickle = pickle.loads(trained_lr) \n",
    "\n",
    "#Write to local \n",
    "with open('lr.model', 'wb') as files:\n",
    "    pickle.dump(lr, files)"
   ]
  },
  {
   "cell_type": "markdown",
   "id": "43a57465",
   "metadata": {},
   "source": [
    "### Mathod#2 Naive Bays "
   ]
  },
  {
   "cell_type": "markdown",
   "id": "ddbd4b05",
   "metadata": {},
   "source": [
    "#### Similarly, we need to set up model first and then fit the training dataset. Sklearn has multiple Naive Bays package, I'm trying to find out which one is the best for predicting the digits number."
   ]
  },
  {
   "cell_type": "code",
   "execution_count": 94,
   "id": "c8fb7922",
   "metadata": {},
   "outputs": [],
   "source": [
    "from sklearn.naive_bayes import MultinomialNB\n",
    "from sklearn.naive_bayes import GaussianNB\n",
    "from sklearn.naive_bayes import BernoulliNB\n",
    "from sklearn.naive_bayes import ComplementNB\n",
    "mnb = MultinomialNB()\n",
    "gnb = GaussianNB()\n",
    "bnb = BernoulliNB()\n",
    "cnb = ComplementNB()"
   ]
  },
  {
   "cell_type": "code",
   "execution_count": 95,
   "id": "aec9b4f2",
   "metadata": {},
   "outputs": [
    {
     "data": {
      "text/plain": [
       "ComplementNB()"
      ]
     },
     "execution_count": 95,
     "metadata": {},
     "output_type": "execute_result"
    }
   ],
   "source": [
    "mnb.fit(x_train, train_labels)\n",
    "gnb.fit(x_train, train_labels)\n",
    "bnb.fit(x_train, train_labels)\n",
    "cnb.fit(x_train, train_labels)"
   ]
  },
  {
   "cell_type": "code",
   "execution_count": null,
   "id": "e7e1128a",
   "metadata": {},
   "outputs": [],
   "source": [
    "from sklearn.metrics import accuracy_score"
   ]
  },
  {
   "cell_type": "code",
   "execution_count": 96,
   "id": "47cea5c9",
   "metadata": {},
   "outputs": [
    {
     "name": "stdout",
     "output_type": "stream",
     "text": [
      "Accuracy for Multinomia NB = 83.65 %\n",
      "Accuracy for Gaussian NB = 55.58 %\n",
      "Accuracy for Bernoulli NB = 84.13000000000001 %\n",
      "Accuracy for Complement NB = 72.85000000000001 %\n"
     ]
    }
   ],
   "source": [
    "### Getting Each Accuracy \n",
    "y_predicted_1 = mnb.predict(x_test)\n",
    "y_predicted_2 = gnb.predict(x_test)\n",
    "y_predicted_3 = bnb.predict(x_test)\n",
    "y_predicted_4 = cnb.predict(x_test)\n",
    "\n",
    "print (\"Accuracy for Multinomia NB = {} %\".format(accuracy_score(y_test, y_predicted_1)*100))\n",
    "print (\"Accuracy for Gaussian NB = {} %\".format(accuracy_score(y_test, y_predicted_2)*100))\n",
    "print (\"Accuracy for Bernoulli NB = {} %\".format(accuracy_score(y_test, y_predicted_3)*100))\n",
    "print (\"Accuracy for Complement NB = {} %\".format(accuracy_score(y_test, y_predicted_4)*100))"
   ]
  },
  {
   "cell_type": "markdown",
   "id": "6fb361f2",
   "metadata": {},
   "source": [
    "#### We can see Bernoulli NB performance the best, the Multinomial NV also getting a good score. Let's inspect their \n",
    "#### confusion matrix"
   ]
  },
  {
   "cell_type": "code",
   "execution_count": 109,
   "id": "fd6d47d0",
   "metadata": {},
   "outputs": [
    {
     "data": {
      "text/plain": [
       "array([[ 912,    0,    2,    6,    1,    8,   14,    1,   36,    0],\n",
       "       [   0, 1061,    5,    9,    0,    2,    6,    0,   51,    1],\n",
       "       [  15,   11,  858,   24,   10,    3,   33,   11,   66,    1],\n",
       "       [   4,   11,   34,  851,    1,   21,    7,   14,   40,   27],\n",
       "       [   2,    2,    6,    0,  732,    0,   25,    1,   38,  176],\n",
       "       [  23,   11,    6,  107,   18,  590,   17,    6,   78,   36],\n",
       "       [  17,   13,   17,    1,    7,   25,  860,    0,   18,    0],\n",
       "       [   1,   21,   11,    5,   19,    0,    1,  861,   40,   69],\n",
       "       [   6,   26,   13,   54,   14,   27,    8,    9,  777,   40],\n",
       "       [   6,    7,    3,   10,   66,   10,    0,   17,   27,  863]])"
      ]
     },
     "execution_count": 109,
     "metadata": {},
     "output_type": "execute_result"
    }
   ],
   "source": [
    "cm2 = metrics.confusion_matrix(y_test, y_predicted_1)\n",
    "cm2"
   ]
  },
  {
   "cell_type": "code",
   "execution_count": 110,
   "id": "254748e3",
   "metadata": {},
   "outputs": [
    {
     "data": {
      "image/png": "[encoded data removed]",
      "text/plain": [
       "<Figure size 576x576 with 1 Axes>"
      ]
     },
     "metadata": {
      "needs_background": "light"
     },
     "output_type": "display_data"
    }
   ],
   "source": [
    "plt.figure(figsize=(8,8))\n",
    "plt.imshow(cm2)\n",
    "plt.title('LR Confusion matrix', size = 20)\n",
    "plt.xticks(tick_marks, [\"0\", \"1\", \"2\", \"3\", \"4\", \"5\", \"6\", \"7\", \"8\", \"9\"], rotation=90, size = 10)\n",
    "plt.yticks(tick_marks, [\"0\", \"1\", \"2\", \"3\", \"4\", \"5\", \"6\", \"7\", \"8\", \"9\"], size = 10)\n",
    "plt.ylabel('Target Label', size = 20)\n",
    "plt.xlabel('Predicted Label', size = 20)\n",
    "width, height = cm2.shape\n",
    "for x in range(width):\n",
    "    for y in range(height):\n",
    "        plt.annotate(str(cm2[x][y]), xy=(y, x), \n",
    "horizontalalignment='center',\n",
    "verticalalignment='center')"
   ]
  },
  {
   "cell_type": "code",
   "execution_count": 111,
   "id": "ba092aaf",
   "metadata": {},
   "outputs": [
    {
     "data": {
      "text/plain": [
       "array([[ 887,    0,    4,    7,    2,   41,   16,    1,   22,    0],\n",
       "       [   0, 1085,   10,    5,    0,    9,    6,    0,   19,    1],\n",
       "       [  19,    8,  852,   29,   17,    4,   32,   14,   55,    2],\n",
       "       [   5,   15,   34,  844,    0,   13,    9,   15,   49,   26],\n",
       "       [   2,    6,    4,    0,  795,    4,   21,    1,   23,  126],\n",
       "       [  23,   12,    7,  129,   30,  627,   16,    8,   21,   19],\n",
       "       [  18,   18,   15,    2,   13,   35,  851,    0,    6,    0],\n",
       "       [   1,   24,   14,    4,   15,    0,    0,  871,   27,   72],\n",
       "       [  16,   23,   13,   76,   17,   22,    7,    6,  758,   36],\n",
       "       [   9,   13,    5,    9,   74,    8,    0,   24,   24,  843]])"
      ]
     },
     "execution_count": 111,
     "metadata": {},
     "output_type": "execute_result"
    }
   ],
   "source": [
    "cm3 = metrics.confusion_matrix(y_test, y_predicted_3)\n",
    "cm3"
   ]
  },
  {
   "cell_type": "code",
   "execution_count": 113,
   "id": "858e1c50",
   "metadata": {},
   "outputs": [
    {
     "data": {
      "image/png": "[encoded data removed]",
      "text/plain": [
       "<Figure size 576x576 with 1 Axes>"
      ]
     },
     "metadata": {
      "needs_background": "light"
     },
     "output_type": "display_data"
    }
   ],
   "source": [
    "plt.figure(figsize=(8,8))\n",
    "plt.imshow(cm3)\n",
    "plt.title('LR Confusion matrix', size = 20)\n",
    "plt.xticks(tick_marks, [\"0\", \"1\", \"2\", \"3\", \"4\", \"5\", \"6\", \"7\", \"8\", \"9\"], rotation=90, size = 10)\n",
    "plt.yticks(tick_marks, [\"0\", \"1\", \"2\", \"3\", \"4\", \"5\", \"6\", \"7\", \"8\", \"9\"], size = 10)\n",
    "plt.ylabel('Target Label', size = 20)\n",
    "plt.xlabel('Predicted Label', size = 20)\n",
    "width, height = cm3.shape\n",
    "for x in range(width):\n",
    "    for y in range(height):\n",
    "        plt.annotate(str(cm3[x][y]), xy=(y, x), \n",
    "horizontalalignment='center',\n",
    "verticalalignment='center')"
   ]
  },
  {
   "cell_type": "markdown",
   "id": "23206854",
   "metadata": {},
   "source": [
    "#### Now we can save our traine model"
   ]
  },
  {
   "cell_type": "code",
   "execution_count": 101,
   "id": "ed73d4b0",
   "metadata": {},
   "outputs": [],
   "source": [
    "import pickle\n",
    " \n",
    "#Write to local \n",
    "with open('nb.model', 'wb') as files:\n",
    "    pickle.dump(bnb, files)"
   ]
  },
  {
   "cell_type": "code",
   "execution_count": null,
   "id": "21379c0b",
   "metadata": {},
   "outputs": [],
   "source": []
  }
 ],
 "metadata": {
  "kernelspec": {
   "display_name": "Python 3",
   "language": "python",
   "name": "python3"
  },
  "language_info": {
   "codemirror_mode": {
    "name": "ipython",
    "version": 3
   },
   "file_extension": ".py",
   "mimetype": "text/x-python",
   "name": "python",
   "nbconvert_exporter": "python",
   "pygments_lexer": "ipython3",
   "version": "3.8.8"
  }
 },
 "nbformat": 4,
 "nbformat_minor": 5
}
