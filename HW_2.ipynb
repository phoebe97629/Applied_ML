{
 "cells": [
  {
   "cell_type": "code",
   "execution_count": 1,
   "id": "4a7b0508",
   "metadata": {},
   "outputs": [],
   "source": [
    "import os\n",
    "import numpy as np\n",
    "import pandas as pd\n",
    "from numpy.random import RandomState"
   ]
  },
  {
   "cell_type": "markdown",
   "id": "e35abadb",
   "metadata": {},
   "source": [
    "### Merge target and variables dataset for future observation. "
   ]
  },
  {
   "cell_type": "code",
   "execution_count": 4,
   "id": "aa8744e7",
   "metadata": {},
   "outputs": [],
   "source": [
    "#from numpy.random import RandomState\n",
    "\n",
    "df = pd.read_csv('train_2016.csv')\n",
    "df_pro = pd.read_csv('properties_2016.csv')\n",
    "rng = RandomState()\n",
    "\n",
    "data_2016 = pd.merge(df, df_pro, how = 'left', on = 'parcelid')"
   ]
  },
  {
   "cell_type": "code",
   "execution_count": 5,
   "id": "e3ea3971",
   "metadata": {},
   "outputs": [
    {
     "data": {
      "text/plain": [
       "(90275, 60)"
      ]
     },
     "execution_count": 5,
     "metadata": {},
     "output_type": "execute_result"
    }
   ],
   "source": [
    "data_2016.shape"
   ]
  },
  {
   "cell_type": "markdown",
   "id": "c92f1555",
   "metadata": {},
   "source": [
    "# Data Examination and Analysis"
   ]
  },
  {
   "cell_type": "markdown",
   "id": "d37d2ecc",
   "metadata": {},
   "source": [
    "### For this task, I'm doing a general data examination about the proerpties 2016 dataset. The main purpose of this task is to observe how's the data distributed, the correlation between the variables, and how to pick up the relavant variables for the log error predictions."
   ]
  },
  {
   "cell_type": "code",
   "execution_count": 6,
   "id": "a4363d70",
   "metadata": {},
   "outputs": [
    {
     "name": "stdout",
     "output_type": "stream",
     "text": [
      "<class 'pandas.core.frame.DataFrame'>\n",
      "Int64Index: 90275 entries, 0 to 90274\n",
      "Data columns (total 60 columns):\n",
      " #   Column                        Non-Null Count  Dtype  \n",
      "---  ------                        --------------  -----  \n",
      " 0   parcelid                      90275 non-null  int64  \n",
      " 1   logerror                      90275 non-null  float64\n",
      " 2   transactiondate               90275 non-null  object \n",
      " 3   airconditioningtypeid         28781 non-null  float64\n",
      " 4   architecturalstyletypeid      261 non-null    float64\n",
      " 5   basementsqft                  43 non-null     float64\n",
      " 6   bathroomcnt                   90275 non-null  float64\n",
      " 7   bedroomcnt                    90275 non-null  float64\n",
      " 8   buildingclasstypeid           16 non-null     float64\n",
      " 9   buildingqualitytypeid         57364 non-null  float64\n",
      " 10  calculatedbathnbr             89093 non-null  float64\n",
      " 11  decktypeid                    658 non-null    float64\n",
      " 12  finishedfloor1squarefeet      6856 non-null   float64\n",
      " 13  calculatedfinishedsquarefeet  89614 non-null  float64\n",
      " 14  finishedsquarefeet12          85596 non-null  float64\n",
      " 15  finishedsquarefeet13          33 non-null     float64\n",
      " 16  finishedsquarefeet15          3564 non-null   float64\n",
      " 17  finishedsquarefeet50          6856 non-null   float64\n",
      " 18  finishedsquarefeet6           421 non-null    float64\n",
      " 19  fips                          90275 non-null  float64\n",
      " 20  fireplacecnt                  9607 non-null   float64\n",
      " 21  fullbathcnt                   89093 non-null  float64\n",
      " 22  garagecarcnt                  29937 non-null  float64\n",
      " 23  garagetotalsqft               29937 non-null  float64\n",
      " 24  hashottuborspa                2365 non-null   object \n",
      " 25  heatingorsystemtypeid         56080 non-null  float64\n",
      " 26  latitude                      90275 non-null  float64\n",
      " 27  longitude                     90275 non-null  float64\n",
      " 28  lotsizesquarefeet             80125 non-null  float64\n",
      " 29  poolcnt                       17901 non-null  float64\n",
      " 30  poolsizesum                   969 non-null    float64\n",
      " 31  pooltypeid10                  1161 non-null   float64\n",
      " 32  pooltypeid2                   1204 non-null   float64\n",
      " 33  pooltypeid7                   16697 non-null  float64\n",
      " 34  propertycountylandusecode     90274 non-null  object \n",
      " 35  propertylandusetypeid         90275 non-null  float64\n",
      " 36  propertyzoningdesc            58313 non-null  object \n",
      " 37  rawcensustractandblock        90275 non-null  float64\n",
      " 38  regionidcity                  88472 non-null  float64\n",
      " 39  regionidcounty                90275 non-null  float64\n",
      " 40  regionidneighborhood          36012 non-null  float64\n",
      " 41  regionidzip                   90240 non-null  float64\n",
      " 42  roomcnt                       90275 non-null  float64\n",
      " 43  storytypeid                   43 non-null     float64\n",
      " 44  threequarterbathnbr           12009 non-null  float64\n",
      " 45  typeconstructiontypeid        299 non-null    float64\n",
      " 46  unitcnt                       58353 non-null  float64\n",
      " 47  yardbuildingsqft17            2646 non-null   float64\n",
      " 48  yardbuildingsqft26            95 non-null     float64\n",
      " 49  yearbuilt                     89519 non-null  float64\n",
      " 50  numberofstories               20570 non-null  float64\n",
      " 51  fireplaceflag                 222 non-null    object \n",
      " 52  structuretaxvaluedollarcnt    89895 non-null  float64\n",
      " 53  taxvaluedollarcnt             90274 non-null  float64\n",
      " 54  assessmentyear                90275 non-null  float64\n",
      " 55  landtaxvaluedollarcnt         90274 non-null  float64\n",
      " 56  taxamount                     90269 non-null  float64\n",
      " 57  taxdelinquencyflag            1783 non-null   object \n",
      " 58  taxdelinquencyyear            1783 non-null   float64\n",
      " 59  censustractandblock           89670 non-null  float64\n",
      "dtypes: float64(53), int64(1), object(6)\n",
      "memory usage: 42.0+ MB\n"
     ]
    }
   ],
   "source": [
    "data_2016.info()"
   ]
  },
  {
   "cell_type": "markdown",
   "id": "b4722487",
   "metadata": {},
   "source": [
    "By observing the info. We can see that most of the data is float type (numerical), a few of the data is categorical"
   ]
  },
  {
   "cell_type": "markdown",
   "id": "d210623b",
   "metadata": {},
   "source": [
    "##### We can see the 2016 datasets has 2985217 entries and 58 variables. There are lots of 'NaN' data from the sample output. We want to see each how many data are missing for each variables."
   ]
  },
  {
   "cell_type": "code",
   "execution_count": 7,
   "id": "51eb8312",
   "metadata": {},
   "outputs": [
    {
     "name": "stdout",
     "output_type": "stream",
     "text": [
      "There are 29 columns with more than 50% of missing data\n"
     ]
    },
    {
     "data": {
      "image/png": "[encoded data removed]",
      "text/plain": [
       "<Figure size 432x288 with 1 Axes>"
      ]
     },
     "metadata": {
      "needs_background": "light"
     },
     "output_type": "display_data"
    }
   ],
   "source": [
    "import seaborn as sns\n",
    "import matplotlib.pyplot as plt\n",
    "import plotly.graph_objects as go\n",
    "import warnings\n",
    "import plotly.express as px\n",
    "\n",
    "#Print out the coluns missing half of the data (half data is none)\n",
    "missing_df = data_2016.isnull().sum()\n",
    "more_than_50 = missing_df[missing_df.values>(0.5*len(data_2016))].sort_values().reset_index()\n",
    "print('There are {} columns with more than 50% of missing data'.format(len(more_than_50)))\n",
    "\n",
    "var = [i for i in more_than_50['index']]\n",
    "val = [i for i in more_than_50[0]]\n",
    "#plt.xticks(rotation = 45)\n",
    "plt.bar(var, val)\n",
    "plt.xticks(rotation = 90)\n",
    "plt.show()"
   ]
  },
  {
   "cell_type": "markdown",
   "id": "62a884de",
   "metadata": {},
   "source": [
    "We can see that there are some varaible missing more than 4000 data. Sparse variable might not be too valuable for the prediction. So that we can remove the column with more than 70% missing data. For the result of the variable, we can remove all the missiong value. After than, we can see decide how categorical and numerical variable can be used for prediction. "
   ]
  },
  {
   "cell_type": "code",
   "execution_count": 8,
   "id": "6fc93fd4",
   "metadata": {},
   "outputs": [
    {
     "name": "stdout",
     "output_type": "stream",
     "text": [
      "There are 29 columns with more than 50% of missing data\n"
     ]
    }
   ],
   "source": [
    "missing_df = data_2016.isnull().sum()\n",
    "more_than_50 = missing_df[missing_df.values>(0.5*len(data_2016))].sort_values().reset_index()\n",
    "print('There are {} columns with more than 50% of missing data'.format(len(more_than_50)))"
   ]
  },
  {
   "cell_type": "code",
   "execution_count": 10,
   "id": "b4d6cf15",
   "metadata": {},
   "outputs": [],
   "source": [
    "col_name = [i for i in more_than_50['index']]\n",
    "\n",
    "for i in col_name: \n",
    "    data_2016.drop(i, axis=1, inplace=True)"
   ]
  },
  {
   "cell_type": "markdown",
   "id": "b1a829aa",
   "metadata": {},
   "source": [
    "Let's observe numerical feature first. From the dataset info, we can see most the numerical feature are float64 instead of parcelid."
   ]
  },
  {
   "cell_type": "markdown",
   "id": "7a727e15",
   "metadata": {},
   "source": [
    "#### Further observation the distribution of the data. "
   ]
  },
  {
   "cell_type": "code",
   "execution_count": 11,
   "id": "d8a1b5bd",
   "metadata": {},
   "outputs": [
    {
     "name": "stdout",
     "output_type": "stream",
     "text": [
      "<class 'pandas.core.frame.DataFrame'>\n",
      "Int64Index: 90275 entries, 0 to 90274\n",
      "Data columns (total 31 columns):\n",
      " #   Column                        Non-Null Count  Dtype  \n",
      "---  ------                        --------------  -----  \n",
      " 0   parcelid                      90275 non-null  int64  \n",
      " 1   logerror                      90275 non-null  float64\n",
      " 2   transactiondate               90275 non-null  object \n",
      " 3   bathroomcnt                   90275 non-null  float64\n",
      " 4   bedroomcnt                    90275 non-null  float64\n",
      " 5   buildingqualitytypeid         57364 non-null  float64\n",
      " 6   calculatedbathnbr             89093 non-null  float64\n",
      " 7   calculatedfinishedsquarefeet  89614 non-null  float64\n",
      " 8   finishedsquarefeet12          85596 non-null  float64\n",
      " 9   fips                          90275 non-null  float64\n",
      " 10  fullbathcnt                   89093 non-null  float64\n",
      " 11  heatingorsystemtypeid         56080 non-null  float64\n",
      " 12  latitude                      90275 non-null  float64\n",
      " 13  longitude                     90275 non-null  float64\n",
      " 14  lotsizesquarefeet             80125 non-null  float64\n",
      " 15  propertycountylandusecode     90274 non-null  object \n",
      " 16  propertylandusetypeid         90275 non-null  float64\n",
      " 17  propertyzoningdesc            58313 non-null  object \n",
      " 18  rawcensustractandblock        90275 non-null  float64\n",
      " 19  regionidcity                  88472 non-null  float64\n",
      " 20  regionidcounty                90275 non-null  float64\n",
      " 21  regionidzip                   90240 non-null  float64\n",
      " 22  roomcnt                       90275 non-null  float64\n",
      " 23  unitcnt                       58353 non-null  float64\n",
      " 24  yearbuilt                     89519 non-null  float64\n",
      " 25  structuretaxvaluedollarcnt    89895 non-null  float64\n",
      " 26  taxvaluedollarcnt             90274 non-null  float64\n",
      " 27  assessmentyear                90275 non-null  float64\n",
      " 28  landtaxvaluedollarcnt         90274 non-null  float64\n",
      " 29  taxamount                     90269 non-null  float64\n",
      " 30  censustractandblock           89670 non-null  float64\n",
      "dtypes: float64(27), int64(1), object(3)\n",
      "memory usage: 22.0+ MB\n"
     ]
    }
   ],
   "source": [
    "data_2016.info()"
   ]
  },
  {
   "cell_type": "markdown",
   "id": "0bbf88c6",
   "metadata": {},
   "source": [
    "#### From above information and intuition of the factor which can influence the house price, we can pick taxvaluedollarcnt, yearbuilt  ,taxamount to explore the importance and distirbution.  "
   ]
  },
  {
   "cell_type": "code",
   "execution_count": 12,
   "id": "8fcfff94",
   "metadata": {},
   "outputs": [
    {
     "data": {
      "text/plain": [
       "(array([   64.,   757.,  3036.,  4696.,  8393., 19334., 15943., 17507.,\n",
       "        11370.,  8419.]),\n",
       " array([1885., 1898., 1911., 1924., 1937., 1950., 1963., 1976., 1989.,\n",
       "        2002., 2015.]),\n",
       " <BarContainer object of 10 artists>)"
      ]
     },
     "execution_count": 12,
     "metadata": {},
     "output_type": "execute_result"
    },
    {
     "data": {
      "image/png": "[encoded data removed]",
      "text/plain": [
       "<Figure size 432x288 with 1 Axes>"
      ]
     },
     "metadata": {
      "needs_background": "light"
     },
     "output_type": "display_data"
    }
   ],
   "source": [
    "year_built = data_2016['yearbuilt'].dropna()\n",
    "year_built = [i for i in year_built]\n",
    "plt.hist(year_built)"
   ]
  },
  {
   "cell_type": "code",
   "execution_count": 13,
   "id": "5c390d8c",
   "metadata": {},
   "outputs": [
    {
     "data": {
      "text/plain": [
       "(array([5.3180e+03, 5.7804e+04, 2.0279e+04, 6.1970e+03, 2.3400e+02,\n",
       "        3.6500e+02, 4.7000e+01, 2.2000e+01, 4.0000e+00, 5.0000e+00]),\n",
       " array([ 0. ,  1.6,  3.2,  4.8,  6.4,  8. ,  9.6, 11.2, 12.8, 14.4, 16. ]),\n",
       " <BarContainer object of 10 artists>)"
      ]
     },
     "execution_count": 13,
     "metadata": {},
     "output_type": "execute_result"
    },
    {
     "data": {
      "image/png": "[encoded data removed]",
      "text/plain": [
       "<Figure size 432x288 with 1 Axes>"
      ]
     },
     "metadata": {
      "needs_background": "light"
     },
     "output_type": "display_data"
    }
   ],
   "source": [
    "tax = data_2016['bedroomcnt'].dropna()\n",
    "tax = [i for i in tax]\n",
    "plt.hist(tax)"
   ]
  },
  {
   "cell_type": "code",
   "execution_count": 14,
   "id": "1c58d730",
   "metadata": {},
   "outputs": [
    {
     "data": {
      "text/plain": [
       "(array([7.0000e+00, 3.2000e+01, 7.2000e+02, 8.5300e+03, 2.8253e+04,\n",
       "        4.1179e+04, 9.7640e+03, 1.5660e+03, 1.9500e+02, 2.3000e+01]),\n",
       " array([ 3.89345162,  4.77231729,  5.65118296,  6.53004863,  7.4089143 ,\n",
       "         8.28777997,  9.16664564, 10.04551131, 10.92437699, 11.80324266,\n",
       "        12.68210833]),\n",
       " <BarContainer object of 10 artists>)"
      ]
     },
     "execution_count": 14,
     "metadata": {},
     "output_type": "execute_result"
    },
    {
     "data": {
      "image/png": "[encoded data removed]",
      "text/plain": [
       "<Figure size 432x288 with 1 Axes>"
      ]
     },
     "metadata": {
      "needs_background": "light"
     },
     "output_type": "display_data"
    }
   ],
   "source": [
    "tax = data_2016['taxamount'].dropna()\n",
    "tax = [np.log(i) for i in tax]\n",
    "plt.hist(tax)"
   ]
  },
  {
   "cell_type": "markdown",
   "id": "1ba2ae26",
   "metadata": {},
   "source": [
    "### Final selection of variables"
   ]
  },
  {
   "cell_type": "code",
   "execution_count": 16,
   "id": "2d89ebab",
   "metadata": {},
   "outputs": [],
   "source": [
    "df = data_2016.copy()\n",
    "\n",
    "cat_cols = [\"transactiondate\", \"propertycountylandusecode\", 'propertyzoningdesc']\n",
    "train_df = df.drop(cat_cols, axis=1)\n",
    "\n",
    "train_df = train_df.dropna()\n",
    "\n",
    "\n",
    "\n",
    "\n"
   ]
  },
  {
   "cell_type": "code",
   "execution_count": 17,
   "id": "49b068e1",
   "metadata": {},
   "outputs": [
    {
     "data": {
      "text/html": [
       "<div>\n",
       "<style scoped>\n",
       "    .dataframe tbody tr th:only-of-type {\n",
       "        vertical-align: middle;\n",
       "    }\n",
       "\n",
       "    .dataframe tbody tr th {\n",
       "        vertical-align: top;\n",
       "    }\n",
       "\n",
       "    .dataframe thead th {\n",
       "        text-align: right;\n",
       "    }\n",
       "</style>\n",
       "<table border=\"1\" class=\"dataframe\">\n",
       "  <thead>\n",
       "    <tr style=\"text-align: right;\">\n",
       "      <th></th>\n",
       "      <th>parcelid</th>\n",
       "      <th>logerror</th>\n",
       "      <th>bathroomcnt</th>\n",
       "      <th>bedroomcnt</th>\n",
       "      <th>buildingqualitytypeid</th>\n",
       "      <th>calculatedbathnbr</th>\n",
       "      <th>calculatedfinishedsquarefeet</th>\n",
       "      <th>finishedsquarefeet12</th>\n",
       "      <th>fips</th>\n",
       "      <th>fullbathcnt</th>\n",
       "      <th>...</th>\n",
       "      <th>regionidzip</th>\n",
       "      <th>roomcnt</th>\n",
       "      <th>unitcnt</th>\n",
       "      <th>yearbuilt</th>\n",
       "      <th>structuretaxvaluedollarcnt</th>\n",
       "      <th>taxvaluedollarcnt</th>\n",
       "      <th>assessmentyear</th>\n",
       "      <th>landtaxvaluedollarcnt</th>\n",
       "      <th>taxamount</th>\n",
       "      <th>censustractandblock</th>\n",
       "    </tr>\n",
       "  </thead>\n",
       "  <tbody>\n",
       "    <tr>\n",
       "      <th>0</th>\n",
       "      <td>11016594</td>\n",
       "      <td>0.0276</td>\n",
       "      <td>2.0</td>\n",
       "      <td>3.0</td>\n",
       "      <td>4.0</td>\n",
       "      <td>2.0</td>\n",
       "      <td>1684.0</td>\n",
       "      <td>1684.0</td>\n",
       "      <td>6037.0</td>\n",
       "      <td>2.0</td>\n",
       "      <td>...</td>\n",
       "      <td>96370.0</td>\n",
       "      <td>0.0</td>\n",
       "      <td>1.0</td>\n",
       "      <td>1959.0</td>\n",
       "      <td>122754.0</td>\n",
       "      <td>360170.0</td>\n",
       "      <td>2015.0</td>\n",
       "      <td>237416.0</td>\n",
       "      <td>6735.88</td>\n",
       "      <td>6.037107e+13</td>\n",
       "    </tr>\n",
       "    <tr>\n",
       "      <th>2</th>\n",
       "      <td>12098116</td>\n",
       "      <td>-0.0040</td>\n",
       "      <td>3.0</td>\n",
       "      <td>2.0</td>\n",
       "      <td>4.0</td>\n",
       "      <td>3.0</td>\n",
       "      <td>2217.0</td>\n",
       "      <td>2217.0</td>\n",
       "      <td>6037.0</td>\n",
       "      <td>3.0</td>\n",
       "      <td>...</td>\n",
       "      <td>96293.0</td>\n",
       "      <td>0.0</td>\n",
       "      <td>1.0</td>\n",
       "      <td>1940.0</td>\n",
       "      <td>61994.0</td>\n",
       "      <td>119906.0</td>\n",
       "      <td>2015.0</td>\n",
       "      <td>57912.0</td>\n",
       "      <td>11484.48</td>\n",
       "      <td>6.037464e+13</td>\n",
       "    </tr>\n",
       "    <tr>\n",
       "      <th>3</th>\n",
       "      <td>12643413</td>\n",
       "      <td>0.0218</td>\n",
       "      <td>2.0</td>\n",
       "      <td>2.0</td>\n",
       "      <td>4.0</td>\n",
       "      <td>2.0</td>\n",
       "      <td>839.0</td>\n",
       "      <td>839.0</td>\n",
       "      <td>6037.0</td>\n",
       "      <td>2.0</td>\n",
       "      <td>...</td>\n",
       "      <td>96222.0</td>\n",
       "      <td>0.0</td>\n",
       "      <td>1.0</td>\n",
       "      <td>1987.0</td>\n",
       "      <td>171518.0</td>\n",
       "      <td>244880.0</td>\n",
       "      <td>2015.0</td>\n",
       "      <td>73362.0</td>\n",
       "      <td>3048.74</td>\n",
       "      <td>6.037296e+13</td>\n",
       "    </tr>\n",
       "    <tr>\n",
       "      <th>5</th>\n",
       "      <td>11509835</td>\n",
       "      <td>-0.2705</td>\n",
       "      <td>4.0</td>\n",
       "      <td>4.0</td>\n",
       "      <td>1.0</td>\n",
       "      <td>4.0</td>\n",
       "      <td>3067.0</td>\n",
       "      <td>3067.0</td>\n",
       "      <td>6037.0</td>\n",
       "      <td>4.0</td>\n",
       "      <td>...</td>\n",
       "      <td>96109.0</td>\n",
       "      <td>0.0</td>\n",
       "      <td>1.0</td>\n",
       "      <td>1982.0</td>\n",
       "      <td>880650.0</td>\n",
       "      <td>2447951.0</td>\n",
       "      <td>2015.0</td>\n",
       "      <td>1567301.0</td>\n",
       "      <td>27126.57</td>\n",
       "      <td>6.037621e+13</td>\n",
       "    </tr>\n",
       "    <tr>\n",
       "      <th>6</th>\n",
       "      <td>12286022</td>\n",
       "      <td>0.0440</td>\n",
       "      <td>1.0</td>\n",
       "      <td>2.0</td>\n",
       "      <td>7.0</td>\n",
       "      <td>1.0</td>\n",
       "      <td>1297.0</td>\n",
       "      <td>1297.0</td>\n",
       "      <td>6037.0</td>\n",
       "      <td>1.0</td>\n",
       "      <td>...</td>\n",
       "      <td>96091.0</td>\n",
       "      <td>0.0</td>\n",
       "      <td>1.0</td>\n",
       "      <td>1939.0</td>\n",
       "      <td>64549.0</td>\n",
       "      <td>111521.0</td>\n",
       "      <td>2015.0</td>\n",
       "      <td>46972.0</td>\n",
       "      <td>2304.97</td>\n",
       "      <td>6.037542e+13</td>\n",
       "    </tr>\n",
       "    <tr>\n",
       "      <th>...</th>\n",
       "      <td>...</td>\n",
       "      <td>...</td>\n",
       "      <td>...</td>\n",
       "      <td>...</td>\n",
       "      <td>...</td>\n",
       "      <td>...</td>\n",
       "      <td>...</td>\n",
       "      <td>...</td>\n",
       "      <td>...</td>\n",
       "      <td>...</td>\n",
       "      <td>...</td>\n",
       "      <td>...</td>\n",
       "      <td>...</td>\n",
       "      <td>...</td>\n",
       "      <td>...</td>\n",
       "      <td>...</td>\n",
       "      <td>...</td>\n",
       "      <td>...</td>\n",
       "      <td>...</td>\n",
       "      <td>...</td>\n",
       "      <td>...</td>\n",
       "    </tr>\n",
       "    <tr>\n",
       "      <th>90268</th>\n",
       "      <td>12268527</td>\n",
       "      <td>-0.0151</td>\n",
       "      <td>3.0</td>\n",
       "      <td>3.0</td>\n",
       "      <td>4.0</td>\n",
       "      <td>3.0</td>\n",
       "      <td>2438.0</td>\n",
       "      <td>2438.0</td>\n",
       "      <td>6037.0</td>\n",
       "      <td>3.0</td>\n",
       "      <td>...</td>\n",
       "      <td>96092.0</td>\n",
       "      <td>0.0</td>\n",
       "      <td>1.0</td>\n",
       "      <td>1943.0</td>\n",
       "      <td>192373.0</td>\n",
       "      <td>315288.0</td>\n",
       "      <td>2015.0</td>\n",
       "      <td>122915.0</td>\n",
       "      <td>5853.81</td>\n",
       "      <td>6.037541e+13</td>\n",
       "    </tr>\n",
       "    <tr>\n",
       "      <th>90269</th>\n",
       "      <td>12920746</td>\n",
       "      <td>0.0344</td>\n",
       "      <td>2.0</td>\n",
       "      <td>3.0</td>\n",
       "      <td>4.0</td>\n",
       "      <td>2.0</td>\n",
       "      <td>1448.0</td>\n",
       "      <td>1448.0</td>\n",
       "      <td>6037.0</td>\n",
       "      <td>2.0</td>\n",
       "      <td>...</td>\n",
       "      <td>96473.0</td>\n",
       "      <td>0.0</td>\n",
       "      <td>1.0</td>\n",
       "      <td>1959.0</td>\n",
       "      <td>141700.0</td>\n",
       "      <td>405000.0</td>\n",
       "      <td>2015.0</td>\n",
       "      <td>263300.0</td>\n",
       "      <td>5311.03</td>\n",
       "      <td>6.037404e+13</td>\n",
       "    </tr>\n",
       "    <tr>\n",
       "      <th>90270</th>\n",
       "      <td>10774160</td>\n",
       "      <td>-0.0356</td>\n",
       "      <td>1.0</td>\n",
       "      <td>1.0</td>\n",
       "      <td>4.0</td>\n",
       "      <td>1.0</td>\n",
       "      <td>653.0</td>\n",
       "      <td>653.0</td>\n",
       "      <td>6037.0</td>\n",
       "      <td>1.0</td>\n",
       "      <td>...</td>\n",
       "      <td>96364.0</td>\n",
       "      <td>0.0</td>\n",
       "      <td>1.0</td>\n",
       "      <td>1979.0</td>\n",
       "      <td>43800.0</td>\n",
       "      <td>191000.0</td>\n",
       "      <td>2015.0</td>\n",
       "      <td>147200.0</td>\n",
       "      <td>2495.24</td>\n",
       "      <td>6.037132e+13</td>\n",
       "    </tr>\n",
       "    <tr>\n",
       "      <th>90271</th>\n",
       "      <td>12046695</td>\n",
       "      <td>0.0070</td>\n",
       "      <td>3.0</td>\n",
       "      <td>3.0</td>\n",
       "      <td>4.0</td>\n",
       "      <td>3.0</td>\n",
       "      <td>2856.0</td>\n",
       "      <td>2856.0</td>\n",
       "      <td>6037.0</td>\n",
       "      <td>3.0</td>\n",
       "      <td>...</td>\n",
       "      <td>96327.0</td>\n",
       "      <td>0.0</td>\n",
       "      <td>1.0</td>\n",
       "      <td>1965.0</td>\n",
       "      <td>117893.0</td>\n",
       "      <td>161111.0</td>\n",
       "      <td>2015.0</td>\n",
       "      <td>43218.0</td>\n",
       "      <td>1886.54</td>\n",
       "      <td>6.037301e+13</td>\n",
       "    </tr>\n",
       "    <tr>\n",
       "      <th>90273</th>\n",
       "      <td>11402105</td>\n",
       "      <td>0.0602</td>\n",
       "      <td>2.0</td>\n",
       "      <td>2.0</td>\n",
       "      <td>4.0</td>\n",
       "      <td>2.0</td>\n",
       "      <td>1034.0</td>\n",
       "      <td>1034.0</td>\n",
       "      <td>6037.0</td>\n",
       "      <td>2.0</td>\n",
       "      <td>...</td>\n",
       "      <td>96133.0</td>\n",
       "      <td>0.0</td>\n",
       "      <td>1.0</td>\n",
       "      <td>1981.0</td>\n",
       "      <td>132991.0</td>\n",
       "      <td>165869.0</td>\n",
       "      <td>2015.0</td>\n",
       "      <td>32878.0</td>\n",
       "      <td>2285.57</td>\n",
       "      <td>6.037601e+13</td>\n",
       "    </tr>\n",
       "  </tbody>\n",
       "</table>\n",
       "<p>50635 rows × 28 columns</p>\n",
       "</div>"
      ],
      "text/plain": [
       "       parcelid  logerror  bathroomcnt  bedroomcnt  buildingqualitytypeid  \\\n",
       "0      11016594    0.0276          2.0         3.0                    4.0   \n",
       "2      12098116   -0.0040          3.0         2.0                    4.0   \n",
       "3      12643413    0.0218          2.0         2.0                    4.0   \n",
       "5      11509835   -0.2705          4.0         4.0                    1.0   \n",
       "6      12286022    0.0440          1.0         2.0                    7.0   \n",
       "...         ...       ...          ...         ...                    ...   \n",
       "90268  12268527   -0.0151          3.0         3.0                    4.0   \n",
       "90269  12920746    0.0344          2.0         3.0                    4.0   \n",
       "90270  10774160   -0.0356          1.0         1.0                    4.0   \n",
       "90271  12046695    0.0070          3.0         3.0                    4.0   \n",
       "90273  11402105    0.0602          2.0         2.0                    4.0   \n",
       "\n",
       "       calculatedbathnbr  calculatedfinishedsquarefeet  finishedsquarefeet12  \\\n",
       "0                    2.0                        1684.0                1684.0   \n",
       "2                    3.0                        2217.0                2217.0   \n",
       "3                    2.0                         839.0                 839.0   \n",
       "5                    4.0                        3067.0                3067.0   \n",
       "6                    1.0                        1297.0                1297.0   \n",
       "...                  ...                           ...                   ...   \n",
       "90268                3.0                        2438.0                2438.0   \n",
       "90269                2.0                        1448.0                1448.0   \n",
       "90270                1.0                         653.0                 653.0   \n",
       "90271                3.0                        2856.0                2856.0   \n",
       "90273                2.0                        1034.0                1034.0   \n",
       "\n",
       "         fips  fullbathcnt  ...  regionidzip  roomcnt  unitcnt  yearbuilt  \\\n",
       "0      6037.0          2.0  ...      96370.0      0.0      1.0     1959.0   \n",
       "2      6037.0          3.0  ...      96293.0      0.0      1.0     1940.0   \n",
       "3      6037.0          2.0  ...      96222.0      0.0      1.0     1987.0   \n",
       "5      6037.0          4.0  ...      96109.0      0.0      1.0     1982.0   \n",
       "6      6037.0          1.0  ...      96091.0      0.0      1.0     1939.0   \n",
       "...       ...          ...  ...          ...      ...      ...        ...   \n",
       "90268  6037.0          3.0  ...      96092.0      0.0      1.0     1943.0   \n",
       "90269  6037.0          2.0  ...      96473.0      0.0      1.0     1959.0   \n",
       "90270  6037.0          1.0  ...      96364.0      0.0      1.0     1979.0   \n",
       "90271  6037.0          3.0  ...      96327.0      0.0      1.0     1965.0   \n",
       "90273  6037.0          2.0  ...      96133.0      0.0      1.0     1981.0   \n",
       "\n",
       "       structuretaxvaluedollarcnt  taxvaluedollarcnt  assessmentyear  \\\n",
       "0                        122754.0           360170.0          2015.0   \n",
       "2                         61994.0           119906.0          2015.0   \n",
       "3                        171518.0           244880.0          2015.0   \n",
       "5                        880650.0          2447951.0          2015.0   \n",
       "6                         64549.0           111521.0          2015.0   \n",
       "...                           ...                ...             ...   \n",
       "90268                    192373.0           315288.0          2015.0   \n",
       "90269                    141700.0           405000.0          2015.0   \n",
       "90270                     43800.0           191000.0          2015.0   \n",
       "90271                    117893.0           161111.0          2015.0   \n",
       "90273                    132991.0           165869.0          2015.0   \n",
       "\n",
       "       landtaxvaluedollarcnt  taxamount  censustractandblock  \n",
       "0                   237416.0    6735.88         6.037107e+13  \n",
       "2                    57912.0   11484.48         6.037464e+13  \n",
       "3                    73362.0    3048.74         6.037296e+13  \n",
       "5                  1567301.0   27126.57         6.037621e+13  \n",
       "6                    46972.0    2304.97         6.037542e+13  \n",
       "...                      ...        ...                  ...  \n",
       "90268               122915.0    5853.81         6.037541e+13  \n",
       "90269               263300.0    5311.03         6.037404e+13  \n",
       "90270               147200.0    2495.24         6.037132e+13  \n",
       "90271                43218.0    1886.54         6.037301e+13  \n",
       "90273                32878.0    2285.57         6.037601e+13  \n",
       "\n",
       "[50635 rows x 28 columns]"
      ]
     },
     "execution_count": 17,
     "metadata": {},
     "output_type": "execute_result"
    }
   ],
   "source": [
    "train_df "
   ]
  },
  {
   "cell_type": "code",
   "execution_count": 18,
   "id": "b9996cdf",
   "metadata": {},
   "outputs": [],
   "source": [
    "train_y = train_df['logerror']"
   ]
  },
  {
   "cell_type": "code",
   "execution_count": 19,
   "id": "360f371a",
   "metadata": {},
   "outputs": [
    {
     "data": {
      "text/plain": [
       "Index(['parcelid', 'logerror', 'bathroomcnt', 'bedroomcnt',\n",
       "       'buildingqualitytypeid', 'calculatedbathnbr',\n",
       "       'calculatedfinishedsquarefeet', 'finishedsquarefeet12', 'fips',\n",
       "       'fullbathcnt', 'heatingorsystemtypeid', 'latitude', 'longitude',\n",
       "       'lotsizesquarefeet', 'propertylandusetypeid', 'rawcensustractandblock',\n",
       "       'regionidcity', 'regionidcounty', 'regionidzip', 'roomcnt', 'unitcnt',\n",
       "       'yearbuilt', 'structuretaxvaluedollarcnt', 'taxvaluedollarcnt',\n",
       "       'assessmentyear', 'landtaxvaluedollarcnt', 'taxamount',\n",
       "       'censustractandblock'],\n",
       "      dtype='object')"
      ]
     },
     "execution_count": 19,
     "metadata": {},
     "output_type": "execute_result"
    }
   ],
   "source": [
    "train_df.columns"
   ]
  },
  {
   "cell_type": "code",
   "execution_count": 20,
   "id": "4d465978",
   "metadata": {},
   "outputs": [
    {
     "data": {
      "text/html": [
       "<div>\n",
       "<style scoped>\n",
       "    .dataframe tbody tr th:only-of-type {\n",
       "        vertical-align: middle;\n",
       "    }\n",
       "\n",
       "    .dataframe tbody tr th {\n",
       "        vertical-align: top;\n",
       "    }\n",
       "\n",
       "    .dataframe thead th {\n",
       "        text-align: right;\n",
       "    }\n",
       "</style>\n",
       "<table border=\"1\" class=\"dataframe\">\n",
       "  <thead>\n",
       "    <tr style=\"text-align: right;\">\n",
       "      <th></th>\n",
       "      <th>bathroomcnt</th>\n",
       "      <th>bedroomcnt</th>\n",
       "      <th>buildingqualitytypeid</th>\n",
       "      <th>calculatedbathnbr</th>\n",
       "      <th>calculatedfinishedsquarefeet</th>\n",
       "      <th>finishedsquarefeet12</th>\n",
       "      <th>fips</th>\n",
       "      <th>fullbathcnt</th>\n",
       "      <th>heatingorsystemtypeid</th>\n",
       "      <th>latitude</th>\n",
       "      <th>...</th>\n",
       "      <th>regionidzip</th>\n",
       "      <th>roomcnt</th>\n",
       "      <th>unitcnt</th>\n",
       "      <th>yearbuilt</th>\n",
       "      <th>structuretaxvaluedollarcnt</th>\n",
       "      <th>taxvaluedollarcnt</th>\n",
       "      <th>assessmentyear</th>\n",
       "      <th>landtaxvaluedollarcnt</th>\n",
       "      <th>taxamount</th>\n",
       "      <th>censustractandblock</th>\n",
       "    </tr>\n",
       "  </thead>\n",
       "  <tbody>\n",
       "    <tr>\n",
       "      <th>0</th>\n",
       "      <td>2.0</td>\n",
       "      <td>3.0</td>\n",
       "      <td>4.0</td>\n",
       "      <td>2.0</td>\n",
       "      <td>1684.0</td>\n",
       "      <td>1684.0</td>\n",
       "      <td>6037.0</td>\n",
       "      <td>2.0</td>\n",
       "      <td>2.0</td>\n",
       "      <td>34280990.0</td>\n",
       "      <td>...</td>\n",
       "      <td>96370.0</td>\n",
       "      <td>0.0</td>\n",
       "      <td>1.0</td>\n",
       "      <td>1959.0</td>\n",
       "      <td>122754.0</td>\n",
       "      <td>360170.0</td>\n",
       "      <td>2015.0</td>\n",
       "      <td>237416.0</td>\n",
       "      <td>6735.88</td>\n",
       "      <td>6.037107e+13</td>\n",
       "    </tr>\n",
       "    <tr>\n",
       "      <th>2</th>\n",
       "      <td>3.0</td>\n",
       "      <td>2.0</td>\n",
       "      <td>4.0</td>\n",
       "      <td>3.0</td>\n",
       "      <td>2217.0</td>\n",
       "      <td>2217.0</td>\n",
       "      <td>6037.0</td>\n",
       "      <td>3.0</td>\n",
       "      <td>2.0</td>\n",
       "      <td>34136312.0</td>\n",
       "      <td>...</td>\n",
       "      <td>96293.0</td>\n",
       "      <td>0.0</td>\n",
       "      <td>1.0</td>\n",
       "      <td>1940.0</td>\n",
       "      <td>61994.0</td>\n",
       "      <td>119906.0</td>\n",
       "      <td>2015.0</td>\n",
       "      <td>57912.0</td>\n",
       "      <td>11484.48</td>\n",
       "      <td>6.037464e+13</td>\n",
       "    </tr>\n",
       "    <tr>\n",
       "      <th>3</th>\n",
       "      <td>2.0</td>\n",
       "      <td>2.0</td>\n",
       "      <td>4.0</td>\n",
       "      <td>2.0</td>\n",
       "      <td>839.0</td>\n",
       "      <td>839.0</td>\n",
       "      <td>6037.0</td>\n",
       "      <td>2.0</td>\n",
       "      <td>2.0</td>\n",
       "      <td>33755800.0</td>\n",
       "      <td>...</td>\n",
       "      <td>96222.0</td>\n",
       "      <td>0.0</td>\n",
       "      <td>1.0</td>\n",
       "      <td>1987.0</td>\n",
       "      <td>171518.0</td>\n",
       "      <td>244880.0</td>\n",
       "      <td>2015.0</td>\n",
       "      <td>73362.0</td>\n",
       "      <td>3048.74</td>\n",
       "      <td>6.037296e+13</td>\n",
       "    </tr>\n",
       "    <tr>\n",
       "      <th>5</th>\n",
       "      <td>4.0</td>\n",
       "      <td>4.0</td>\n",
       "      <td>1.0</td>\n",
       "      <td>4.0</td>\n",
       "      <td>3067.0</td>\n",
       "      <td>3067.0</td>\n",
       "      <td>6037.0</td>\n",
       "      <td>4.0</td>\n",
       "      <td>2.0</td>\n",
       "      <td>33870089.0</td>\n",
       "      <td>...</td>\n",
       "      <td>96109.0</td>\n",
       "      <td>0.0</td>\n",
       "      <td>1.0</td>\n",
       "      <td>1982.0</td>\n",
       "      <td>880650.0</td>\n",
       "      <td>2447951.0</td>\n",
       "      <td>2015.0</td>\n",
       "      <td>1567301.0</td>\n",
       "      <td>27126.57</td>\n",
       "      <td>6.037621e+13</td>\n",
       "    </tr>\n",
       "    <tr>\n",
       "      <th>6</th>\n",
       "      <td>1.0</td>\n",
       "      <td>2.0</td>\n",
       "      <td>7.0</td>\n",
       "      <td>1.0</td>\n",
       "      <td>1297.0</td>\n",
       "      <td>1297.0</td>\n",
       "      <td>6037.0</td>\n",
       "      <td>1.0</td>\n",
       "      <td>7.0</td>\n",
       "      <td>33899475.0</td>\n",
       "      <td>...</td>\n",
       "      <td>96091.0</td>\n",
       "      <td>0.0</td>\n",
       "      <td>1.0</td>\n",
       "      <td>1939.0</td>\n",
       "      <td>64549.0</td>\n",
       "      <td>111521.0</td>\n",
       "      <td>2015.0</td>\n",
       "      <td>46972.0</td>\n",
       "      <td>2304.97</td>\n",
       "      <td>6.037542e+13</td>\n",
       "    </tr>\n",
       "    <tr>\n",
       "      <th>...</th>\n",
       "      <td>...</td>\n",
       "      <td>...</td>\n",
       "      <td>...</td>\n",
       "      <td>...</td>\n",
       "      <td>...</td>\n",
       "      <td>...</td>\n",
       "      <td>...</td>\n",
       "      <td>...</td>\n",
       "      <td>...</td>\n",
       "      <td>...</td>\n",
       "      <td>...</td>\n",
       "      <td>...</td>\n",
       "      <td>...</td>\n",
       "      <td>...</td>\n",
       "      <td>...</td>\n",
       "      <td>...</td>\n",
       "      <td>...</td>\n",
       "      <td>...</td>\n",
       "      <td>...</td>\n",
       "      <td>...</td>\n",
       "      <td>...</td>\n",
       "    </tr>\n",
       "    <tr>\n",
       "      <th>90268</th>\n",
       "      <td>3.0</td>\n",
       "      <td>3.0</td>\n",
       "      <td>4.0</td>\n",
       "      <td>3.0</td>\n",
       "      <td>2438.0</td>\n",
       "      <td>2438.0</td>\n",
       "      <td>6037.0</td>\n",
       "      <td>3.0</td>\n",
       "      <td>2.0</td>\n",
       "      <td>33916972.0</td>\n",
       "      <td>...</td>\n",
       "      <td>96092.0</td>\n",
       "      <td>0.0</td>\n",
       "      <td>1.0</td>\n",
       "      <td>1943.0</td>\n",
       "      <td>192373.0</td>\n",
       "      <td>315288.0</td>\n",
       "      <td>2015.0</td>\n",
       "      <td>122915.0</td>\n",
       "      <td>5853.81</td>\n",
       "      <td>6.037541e+13</td>\n",
       "    </tr>\n",
       "    <tr>\n",
       "      <th>90269</th>\n",
       "      <td>2.0</td>\n",
       "      <td>3.0</td>\n",
       "      <td>4.0</td>\n",
       "      <td>2.0</td>\n",
       "      <td>1448.0</td>\n",
       "      <td>1448.0</td>\n",
       "      <td>6037.0</td>\n",
       "      <td>2.0</td>\n",
       "      <td>2.0</td>\n",
       "      <td>34098870.0</td>\n",
       "      <td>...</td>\n",
       "      <td>96473.0</td>\n",
       "      <td>0.0</td>\n",
       "      <td>1.0</td>\n",
       "      <td>1959.0</td>\n",
       "      <td>141700.0</td>\n",
       "      <td>405000.0</td>\n",
       "      <td>2015.0</td>\n",
       "      <td>263300.0</td>\n",
       "      <td>5311.03</td>\n",
       "      <td>6.037404e+13</td>\n",
       "    </tr>\n",
       "    <tr>\n",
       "      <th>90270</th>\n",
       "      <td>1.0</td>\n",
       "      <td>1.0</td>\n",
       "      <td>4.0</td>\n",
       "      <td>1.0</td>\n",
       "      <td>653.0</td>\n",
       "      <td>653.0</td>\n",
       "      <td>6037.0</td>\n",
       "      <td>1.0</td>\n",
       "      <td>2.0</td>\n",
       "      <td>34203000.0</td>\n",
       "      <td>...</td>\n",
       "      <td>96364.0</td>\n",
       "      <td>0.0</td>\n",
       "      <td>1.0</td>\n",
       "      <td>1979.0</td>\n",
       "      <td>43800.0</td>\n",
       "      <td>191000.0</td>\n",
       "      <td>2015.0</td>\n",
       "      <td>147200.0</td>\n",
       "      <td>2495.24</td>\n",
       "      <td>6.037132e+13</td>\n",
       "    </tr>\n",
       "    <tr>\n",
       "      <th>90271</th>\n",
       "      <td>3.0</td>\n",
       "      <td>3.0</td>\n",
       "      <td>4.0</td>\n",
       "      <td>3.0</td>\n",
       "      <td>2856.0</td>\n",
       "      <td>2856.0</td>\n",
       "      <td>6037.0</td>\n",
       "      <td>3.0</td>\n",
       "      <td>2.0</td>\n",
       "      <td>34198744.0</td>\n",
       "      <td>...</td>\n",
       "      <td>96327.0</td>\n",
       "      <td>0.0</td>\n",
       "      <td>1.0</td>\n",
       "      <td>1965.0</td>\n",
       "      <td>117893.0</td>\n",
       "      <td>161111.0</td>\n",
       "      <td>2015.0</td>\n",
       "      <td>43218.0</td>\n",
       "      <td>1886.54</td>\n",
       "      <td>6.037301e+13</td>\n",
       "    </tr>\n",
       "    <tr>\n",
       "      <th>90273</th>\n",
       "      <td>2.0</td>\n",
       "      <td>2.0</td>\n",
       "      <td>4.0</td>\n",
       "      <td>2.0</td>\n",
       "      <td>1034.0</td>\n",
       "      <td>1034.0</td>\n",
       "      <td>6037.0</td>\n",
       "      <td>2.0</td>\n",
       "      <td>2.0</td>\n",
       "      <td>33963900.0</td>\n",
       "      <td>...</td>\n",
       "      <td>96133.0</td>\n",
       "      <td>0.0</td>\n",
       "      <td>1.0</td>\n",
       "      <td>1981.0</td>\n",
       "      <td>132991.0</td>\n",
       "      <td>165869.0</td>\n",
       "      <td>2015.0</td>\n",
       "      <td>32878.0</td>\n",
       "      <td>2285.57</td>\n",
       "      <td>6.037601e+13</td>\n",
       "    </tr>\n",
       "  </tbody>\n",
       "</table>\n",
       "<p>50635 rows × 26 columns</p>\n",
       "</div>"
      ],
      "text/plain": [
       "       bathroomcnt  bedroomcnt  buildingqualitytypeid  calculatedbathnbr  \\\n",
       "0              2.0         3.0                    4.0                2.0   \n",
       "2              3.0         2.0                    4.0                3.0   \n",
       "3              2.0         2.0                    4.0                2.0   \n",
       "5              4.0         4.0                    1.0                4.0   \n",
       "6              1.0         2.0                    7.0                1.0   \n",
       "...            ...         ...                    ...                ...   \n",
       "90268          3.0         3.0                    4.0                3.0   \n",
       "90269          2.0         3.0                    4.0                2.0   \n",
       "90270          1.0         1.0                    4.0                1.0   \n",
       "90271          3.0         3.0                    4.0                3.0   \n",
       "90273          2.0         2.0                    4.0                2.0   \n",
       "\n",
       "       calculatedfinishedsquarefeet  finishedsquarefeet12    fips  \\\n",
       "0                            1684.0                1684.0  6037.0   \n",
       "2                            2217.0                2217.0  6037.0   \n",
       "3                             839.0                 839.0  6037.0   \n",
       "5                            3067.0                3067.0  6037.0   \n",
       "6                            1297.0                1297.0  6037.0   \n",
       "...                             ...                   ...     ...   \n",
       "90268                        2438.0                2438.0  6037.0   \n",
       "90269                        1448.0                1448.0  6037.0   \n",
       "90270                         653.0                 653.0  6037.0   \n",
       "90271                        2856.0                2856.0  6037.0   \n",
       "90273                        1034.0                1034.0  6037.0   \n",
       "\n",
       "       fullbathcnt  heatingorsystemtypeid    latitude  ...  regionidzip  \\\n",
       "0              2.0                    2.0  34280990.0  ...      96370.0   \n",
       "2              3.0                    2.0  34136312.0  ...      96293.0   \n",
       "3              2.0                    2.0  33755800.0  ...      96222.0   \n",
       "5              4.0                    2.0  33870089.0  ...      96109.0   \n",
       "6              1.0                    7.0  33899475.0  ...      96091.0   \n",
       "...            ...                    ...         ...  ...          ...   \n",
       "90268          3.0                    2.0  33916972.0  ...      96092.0   \n",
       "90269          2.0                    2.0  34098870.0  ...      96473.0   \n",
       "90270          1.0                    2.0  34203000.0  ...      96364.0   \n",
       "90271          3.0                    2.0  34198744.0  ...      96327.0   \n",
       "90273          2.0                    2.0  33963900.0  ...      96133.0   \n",
       "\n",
       "       roomcnt  unitcnt  yearbuilt  structuretaxvaluedollarcnt  \\\n",
       "0          0.0      1.0     1959.0                    122754.0   \n",
       "2          0.0      1.0     1940.0                     61994.0   \n",
       "3          0.0      1.0     1987.0                    171518.0   \n",
       "5          0.0      1.0     1982.0                    880650.0   \n",
       "6          0.0      1.0     1939.0                     64549.0   \n",
       "...        ...      ...        ...                         ...   \n",
       "90268      0.0      1.0     1943.0                    192373.0   \n",
       "90269      0.0      1.0     1959.0                    141700.0   \n",
       "90270      0.0      1.0     1979.0                     43800.0   \n",
       "90271      0.0      1.0     1965.0                    117893.0   \n",
       "90273      0.0      1.0     1981.0                    132991.0   \n",
       "\n",
       "       taxvaluedollarcnt  assessmentyear  landtaxvaluedollarcnt  taxamount  \\\n",
       "0               360170.0          2015.0               237416.0    6735.88   \n",
       "2               119906.0          2015.0                57912.0   11484.48   \n",
       "3               244880.0          2015.0                73362.0    3048.74   \n",
       "5              2447951.0          2015.0              1567301.0   27126.57   \n",
       "6               111521.0          2015.0                46972.0    2304.97   \n",
       "...                  ...             ...                    ...        ...   \n",
       "90268           315288.0          2015.0               122915.0    5853.81   \n",
       "90269           405000.0          2015.0               263300.0    5311.03   \n",
       "90270           191000.0          2015.0               147200.0    2495.24   \n",
       "90271           161111.0          2015.0                43218.0    1886.54   \n",
       "90273           165869.0          2015.0                32878.0    2285.57   \n",
       "\n",
       "       censustractandblock  \n",
       "0             6.037107e+13  \n",
       "2             6.037464e+13  \n",
       "3             6.037296e+13  \n",
       "5             6.037621e+13  \n",
       "6             6.037542e+13  \n",
       "...                    ...  \n",
       "90268         6.037541e+13  \n",
       "90269         6.037404e+13  \n",
       "90270         6.037132e+13  \n",
       "90271         6.037301e+13  \n",
       "90273         6.037601e+13  \n",
       "\n",
       "[50635 rows x 26 columns]"
      ]
     },
     "execution_count": 20,
     "metadata": {},
     "output_type": "execute_result"
    }
   ],
   "source": [
    "train_x = train_df[['bathroomcnt', 'bedroomcnt',\n",
    "       'buildingqualitytypeid', 'calculatedbathnbr',\n",
    "       'calculatedfinishedsquarefeet', 'finishedsquarefeet12', 'fips',\n",
    "       'fullbathcnt', 'heatingorsystemtypeid', 'latitude', 'longitude',\n",
    "       'lotsizesquarefeet', 'propertylandusetypeid', 'rawcensustractandblock',\n",
    "       'regionidcity', 'regionidcounty', 'regionidzip', 'roomcnt', 'unitcnt',\n",
    "       'yearbuilt', 'structuretaxvaluedollarcnt', 'taxvaluedollarcnt',\n",
    "       'assessmentyear', 'landtaxvaluedollarcnt', 'taxamount',\n",
    "       'censustractandblock']]\n",
    "#train_x"
   ]
  },
  {
   "cell_type": "markdown",
   "id": "913e6946",
   "metadata": {},
   "source": [
    "### Now we fit are first model, and use the feature_imporances to observe the importances of selected models. We pick the importances above 0.4 as our final feature selection. "
   ]
  },
  {
   "cell_type": "code",
   "execution_count": 67,
   "id": "5cd87a6f",
   "metadata": {},
   "outputs": [
    {
     "data": {
      "text/plain": [
       "ExtraTreesRegressor(max_depth=30, max_features=0.3, n_estimators=25, n_jobs=-1,\n",
       "                    random_state=0)"
      ]
     },
     "execution_count": 67,
     "metadata": {},
     "output_type": "execute_result"
    }
   ],
   "source": [
    "from sklearn import ensemble\n",
    "baseline_model = ensemble.ExtraTreesRegressor(n_estimators=25, max_depth=30, max_features=0.3, n_jobs=-1, random_state=0)\n",
    "baseline_model.fit(train_x, train_y)"
   ]
  },
  {
   "cell_type": "code",
   "execution_count": 68,
   "id": "bf700525",
   "metadata": {},
   "outputs": [],
   "source": [
    "feat_names = train_x.columns"
   ]
  },
  {
   "cell_type": "code",
   "execution_count": 69,
   "id": "66a501b1",
   "metadata": {},
   "outputs": [
    {
     "data": {
      "image/png": "[encoded data removed]",
      "text/plain": [
       "<Figure size 720x720 with 1 Axes>"
      ]
     },
     "metadata": {
      "needs_background": "light"
     },
     "output_type": "display_data"
    }
   ],
   "source": [
    "importances = model.feature_importances_\n",
    "std = np.std([tree.feature_importances_ for tree in model.estimators_], axis=0)\n",
    "indices = np.argsort(importances)[::-1][:20]\n",
    "\n",
    "plt.figure(figsize=(10,10))\n",
    "plt.title(\"Feature importances\")\n",
    "plt.bar(range(len(indices)), importances[indices], align=\"center\")\n",
    "plt.xticks(range(len(indices)), feat_names[indices], rotation='vertical')\n",
    "plt.xlim([-1, len(indices)])\n",
    "plt.show()"
   ]
  },
  {
   "cell_type": "markdown",
   "id": "9a26639d",
   "metadata": {},
   "source": [
    "#### We pick feature importance above 0.04 only"
   ]
  },
  {
   "cell_type": "code",
   "execution_count": 29,
   "id": "c6eb8e35",
   "metadata": {},
   "outputs": [],
   "source": [
    "final_x = data_2016[['logerror',\n",
    "       'buildingqualitytypeid', 'calculatedbathnbr',\n",
    "       'calculatedfinishedsquarefeet', 'finishedsquarefeet12',\n",
    "       'fullbathcnt', 'heatingorsystemtypeid', 'longitude',\n",
    "       'lotsizesquarefeet', 'propertylandusetypeid', 'rawcensustractandblock',\n",
    "       'regionidcity', 'regionidcounty', 'regionidzip', 'roomcnt', 'unitcnt',\n",
    "       'yearbuilt', 'structuretaxvaluedollarcnt', 'taxvaluedollarcnt',\n",
    "       'assessmentyear', 'landtaxvaluedollarcnt', 'taxamount',\n",
    "       'censustractandblock']].dropna()"
   ]
  },
  {
   "cell_type": "code",
   "execution_count": 30,
   "id": "e515d363",
   "metadata": {},
   "outputs": [],
   "source": [
    "final_train_x = final_x[['buildingqualitytypeid', 'calculatedbathnbr',\n",
    "       'calculatedfinishedsquarefeet', 'finishedsquarefeet12',\n",
    "       'fullbathcnt', 'heatingorsystemtypeid', 'longitude',\n",
    "       'lotsizesquarefeet', 'propertylandusetypeid', 'rawcensustractandblock',\n",
    "       'regionidcity', 'regionidcounty', 'regionidzip', 'roomcnt', 'unitcnt',\n",
    "       'yearbuilt', 'structuretaxvaluedollarcnt', 'taxvaluedollarcnt',\n",
    "       'assessmentyear', 'landtaxvaluedollarcnt', 'taxamount',\n",
    "       'censustractandblock']]"
   ]
  },
  {
   "cell_type": "code",
   "execution_count": 31,
   "id": "c60f0141",
   "metadata": {},
   "outputs": [],
   "source": [
    "final_train_y = final_x['logerror']"
   ]
  },
  {
   "cell_type": "code",
   "execution_count": 32,
   "id": "b29087b9",
   "metadata": {},
   "outputs": [],
   "source": [
    "train_data = final_x.sample(frac=0.49, random_state=rng)\n",
    "test_data = final_x.loc[~final_x.index.isin(train_data.index)]"
   ]
  },
  {
   "cell_type": "code",
   "execution_count": 33,
   "id": "1b1e7c13",
   "metadata": {},
   "outputs": [
    {
     "data": {
      "text/html": [
       "<div>\n",
       "<style scoped>\n",
       "    .dataframe tbody tr th:only-of-type {\n",
       "        vertical-align: middle;\n",
       "    }\n",
       "\n",
       "    .dataframe tbody tr th {\n",
       "        vertical-align: top;\n",
       "    }\n",
       "\n",
       "    .dataframe thead th {\n",
       "        text-align: right;\n",
       "    }\n",
       "</style>\n",
       "<table border=\"1\" class=\"dataframe\">\n",
       "  <thead>\n",
       "    <tr style=\"text-align: right;\">\n",
       "      <th></th>\n",
       "      <th>logerror</th>\n",
       "      <th>buildingqualitytypeid</th>\n",
       "      <th>calculatedbathnbr</th>\n",
       "      <th>calculatedfinishedsquarefeet</th>\n",
       "      <th>finishedsquarefeet12</th>\n",
       "      <th>fullbathcnt</th>\n",
       "      <th>heatingorsystemtypeid</th>\n",
       "      <th>longitude</th>\n",
       "      <th>lotsizesquarefeet</th>\n",
       "      <th>propertylandusetypeid</th>\n",
       "      <th>...</th>\n",
       "      <th>regionidzip</th>\n",
       "      <th>roomcnt</th>\n",
       "      <th>unitcnt</th>\n",
       "      <th>yearbuilt</th>\n",
       "      <th>structuretaxvaluedollarcnt</th>\n",
       "      <th>taxvaluedollarcnt</th>\n",
       "      <th>assessmentyear</th>\n",
       "      <th>landtaxvaluedollarcnt</th>\n",
       "      <th>taxamount</th>\n",
       "      <th>censustractandblock</th>\n",
       "    </tr>\n",
       "  </thead>\n",
       "  <tbody>\n",
       "    <tr>\n",
       "      <th>0</th>\n",
       "      <td>0.0276</td>\n",
       "      <td>4.0</td>\n",
       "      <td>2.0</td>\n",
       "      <td>1684.0</td>\n",
       "      <td>1684.0</td>\n",
       "      <td>2.0</td>\n",
       "      <td>2.0</td>\n",
       "      <td>-118488536.0</td>\n",
       "      <td>7528.0</td>\n",
       "      <td>261.0</td>\n",
       "      <td>...</td>\n",
       "      <td>96370.0</td>\n",
       "      <td>0.0</td>\n",
       "      <td>1.0</td>\n",
       "      <td>1959.0</td>\n",
       "      <td>122754.0</td>\n",
       "      <td>360170.0</td>\n",
       "      <td>2015.0</td>\n",
       "      <td>237416.0</td>\n",
       "      <td>6735.88</td>\n",
       "      <td>6.037107e+13</td>\n",
       "    </tr>\n",
       "    <tr>\n",
       "      <th>2</th>\n",
       "      <td>-0.0040</td>\n",
       "      <td>4.0</td>\n",
       "      <td>3.0</td>\n",
       "      <td>2217.0</td>\n",
       "      <td>2217.0</td>\n",
       "      <td>3.0</td>\n",
       "      <td>2.0</td>\n",
       "      <td>-118175032.0</td>\n",
       "      <td>11423.0</td>\n",
       "      <td>261.0</td>\n",
       "      <td>...</td>\n",
       "      <td>96293.0</td>\n",
       "      <td>0.0</td>\n",
       "      <td>1.0</td>\n",
       "      <td>1940.0</td>\n",
       "      <td>61994.0</td>\n",
       "      <td>119906.0</td>\n",
       "      <td>2015.0</td>\n",
       "      <td>57912.0</td>\n",
       "      <td>11484.48</td>\n",
       "      <td>6.037464e+13</td>\n",
       "    </tr>\n",
       "    <tr>\n",
       "      <th>3</th>\n",
       "      <td>0.0218</td>\n",
       "      <td>4.0</td>\n",
       "      <td>2.0</td>\n",
       "      <td>839.0</td>\n",
       "      <td>839.0</td>\n",
       "      <td>2.0</td>\n",
       "      <td>2.0</td>\n",
       "      <td>-118309000.0</td>\n",
       "      <td>70859.0</td>\n",
       "      <td>266.0</td>\n",
       "      <td>...</td>\n",
       "      <td>96222.0</td>\n",
       "      <td>0.0</td>\n",
       "      <td>1.0</td>\n",
       "      <td>1987.0</td>\n",
       "      <td>171518.0</td>\n",
       "      <td>244880.0</td>\n",
       "      <td>2015.0</td>\n",
       "      <td>73362.0</td>\n",
       "      <td>3048.74</td>\n",
       "      <td>6.037296e+13</td>\n",
       "    </tr>\n",
       "    <tr>\n",
       "      <th>5</th>\n",
       "      <td>-0.2705</td>\n",
       "      <td>1.0</td>\n",
       "      <td>4.0</td>\n",
       "      <td>3067.0</td>\n",
       "      <td>3067.0</td>\n",
       "      <td>4.0</td>\n",
       "      <td>2.0</td>\n",
       "      <td>-118402768.0</td>\n",
       "      <td>2708.0</td>\n",
       "      <td>261.0</td>\n",
       "      <td>...</td>\n",
       "      <td>96109.0</td>\n",
       "      <td>0.0</td>\n",
       "      <td>1.0</td>\n",
       "      <td>1982.0</td>\n",
       "      <td>880650.0</td>\n",
       "      <td>2447951.0</td>\n",
       "      <td>2015.0</td>\n",
       "      <td>1567301.0</td>\n",
       "      <td>27126.57</td>\n",
       "      <td>6.037621e+13</td>\n",
       "    </tr>\n",
       "    <tr>\n",
       "      <th>17</th>\n",
       "      <td>-0.0419</td>\n",
       "      <td>7.0</td>\n",
       "      <td>1.0</td>\n",
       "      <td>597.0</td>\n",
       "      <td>597.0</td>\n",
       "      <td>1.0</td>\n",
       "      <td>2.0</td>\n",
       "      <td>-118123000.0</td>\n",
       "      <td>147471.0</td>\n",
       "      <td>266.0</td>\n",
       "      <td>...</td>\n",
       "      <td>96238.0</td>\n",
       "      <td>0.0</td>\n",
       "      <td>1.0</td>\n",
       "      <td>1970.0</td>\n",
       "      <td>56233.0</td>\n",
       "      <td>70316.0</td>\n",
       "      <td>2015.0</td>\n",
       "      <td>14083.0</td>\n",
       "      <td>913.17</td>\n",
       "      <td>6.037575e+13</td>\n",
       "    </tr>\n",
       "    <tr>\n",
       "      <th>...</th>\n",
       "      <td>...</td>\n",
       "      <td>...</td>\n",
       "      <td>...</td>\n",
       "      <td>...</td>\n",
       "      <td>...</td>\n",
       "      <td>...</td>\n",
       "      <td>...</td>\n",
       "      <td>...</td>\n",
       "      <td>...</td>\n",
       "      <td>...</td>\n",
       "      <td>...</td>\n",
       "      <td>...</td>\n",
       "      <td>...</td>\n",
       "      <td>...</td>\n",
       "      <td>...</td>\n",
       "      <td>...</td>\n",
       "      <td>...</td>\n",
       "      <td>...</td>\n",
       "      <td>...</td>\n",
       "      <td>...</td>\n",
       "      <td>...</td>\n",
       "    </tr>\n",
       "    <tr>\n",
       "      <th>90262</th>\n",
       "      <td>-0.2231</td>\n",
       "      <td>7.0</td>\n",
       "      <td>2.0</td>\n",
       "      <td>1456.0</td>\n",
       "      <td>1456.0</td>\n",
       "      <td>2.0</td>\n",
       "      <td>2.0</td>\n",
       "      <td>-118455969.0</td>\n",
       "      <td>7311.0</td>\n",
       "      <td>261.0</td>\n",
       "      <td>...</td>\n",
       "      <td>96368.0</td>\n",
       "      <td>0.0</td>\n",
       "      <td>1.0</td>\n",
       "      <td>1966.0</td>\n",
       "      <td>140984.0</td>\n",
       "      <td>297456.0</td>\n",
       "      <td>2015.0</td>\n",
       "      <td>156472.0</td>\n",
       "      <td>3738.38</td>\n",
       "      <td>6.037107e+13</td>\n",
       "    </tr>\n",
       "    <tr>\n",
       "      <th>90264</th>\n",
       "      <td>0.0478</td>\n",
       "      <td>10.0</td>\n",
       "      <td>3.0</td>\n",
       "      <td>2712.0</td>\n",
       "      <td>2712.0</td>\n",
       "      <td>3.0</td>\n",
       "      <td>2.0</td>\n",
       "      <td>-118695925.0</td>\n",
       "      <td>156910.0</td>\n",
       "      <td>266.0</td>\n",
       "      <td>...</td>\n",
       "      <td>96116.0</td>\n",
       "      <td>0.0</td>\n",
       "      <td>1.0</td>\n",
       "      <td>2004.0</td>\n",
       "      <td>532796.0</td>\n",
       "      <td>1331992.0</td>\n",
       "      <td>2015.0</td>\n",
       "      <td>799196.0</td>\n",
       "      <td>18297.87</td>\n",
       "      <td>6.037801e+13</td>\n",
       "    </tr>\n",
       "    <tr>\n",
       "      <th>90269</th>\n",
       "      <td>0.0344</td>\n",
       "      <td>4.0</td>\n",
       "      <td>2.0</td>\n",
       "      <td>1448.0</td>\n",
       "      <td>1448.0</td>\n",
       "      <td>2.0</td>\n",
       "      <td>2.0</td>\n",
       "      <td>-117875148.0</td>\n",
       "      <td>7594.0</td>\n",
       "      <td>261.0</td>\n",
       "      <td>...</td>\n",
       "      <td>96473.0</td>\n",
       "      <td>0.0</td>\n",
       "      <td>1.0</td>\n",
       "      <td>1959.0</td>\n",
       "      <td>141700.0</td>\n",
       "      <td>405000.0</td>\n",
       "      <td>2015.0</td>\n",
       "      <td>263300.0</td>\n",
       "      <td>5311.03</td>\n",
       "      <td>6.037404e+13</td>\n",
       "    </tr>\n",
       "    <tr>\n",
       "      <th>90271</th>\n",
       "      <td>0.0070</td>\n",
       "      <td>4.0</td>\n",
       "      <td>3.0</td>\n",
       "      <td>2856.0</td>\n",
       "      <td>2856.0</td>\n",
       "      <td>3.0</td>\n",
       "      <td>2.0</td>\n",
       "      <td>-118224849.0</td>\n",
       "      <td>9343.0</td>\n",
       "      <td>261.0</td>\n",
       "      <td>...</td>\n",
       "      <td>96327.0</td>\n",
       "      <td>0.0</td>\n",
       "      <td>1.0</td>\n",
       "      <td>1965.0</td>\n",
       "      <td>117893.0</td>\n",
       "      <td>161111.0</td>\n",
       "      <td>2015.0</td>\n",
       "      <td>43218.0</td>\n",
       "      <td>1886.54</td>\n",
       "      <td>6.037301e+13</td>\n",
       "    </tr>\n",
       "    <tr>\n",
       "      <th>90273</th>\n",
       "      <td>0.0602</td>\n",
       "      <td>4.0</td>\n",
       "      <td>2.0</td>\n",
       "      <td>1034.0</td>\n",
       "      <td>1034.0</td>\n",
       "      <td>2.0</td>\n",
       "      <td>2.0</td>\n",
       "      <td>-118367000.0</td>\n",
       "      <td>20033.0</td>\n",
       "      <td>266.0</td>\n",
       "      <td>...</td>\n",
       "      <td>96133.0</td>\n",
       "      <td>0.0</td>\n",
       "      <td>1.0</td>\n",
       "      <td>1981.0</td>\n",
       "      <td>132991.0</td>\n",
       "      <td>165869.0</td>\n",
       "      <td>2015.0</td>\n",
       "      <td>32878.0</td>\n",
       "      <td>2285.57</td>\n",
       "      <td>6.037601e+13</td>\n",
       "    </tr>\n",
       "  </tbody>\n",
       "</table>\n",
       "<p>25824 rows × 23 columns</p>\n",
       "</div>"
      ],
      "text/plain": [
       "       logerror  buildingqualitytypeid  calculatedbathnbr  \\\n",
       "0        0.0276                    4.0                2.0   \n",
       "2       -0.0040                    4.0                3.0   \n",
       "3        0.0218                    4.0                2.0   \n",
       "5       -0.2705                    1.0                4.0   \n",
       "17      -0.0419                    7.0                1.0   \n",
       "...         ...                    ...                ...   \n",
       "90262   -0.2231                    7.0                2.0   \n",
       "90264    0.0478                   10.0                3.0   \n",
       "90269    0.0344                    4.0                2.0   \n",
       "90271    0.0070                    4.0                3.0   \n",
       "90273    0.0602                    4.0                2.0   \n",
       "\n",
       "       calculatedfinishedsquarefeet  finishedsquarefeet12  fullbathcnt  \\\n",
       "0                            1684.0                1684.0          2.0   \n",
       "2                            2217.0                2217.0          3.0   \n",
       "3                             839.0                 839.0          2.0   \n",
       "5                            3067.0                3067.0          4.0   \n",
       "17                            597.0                 597.0          1.0   \n",
       "...                             ...                   ...          ...   \n",
       "90262                        1456.0                1456.0          2.0   \n",
       "90264                        2712.0                2712.0          3.0   \n",
       "90269                        1448.0                1448.0          2.0   \n",
       "90271                        2856.0                2856.0          3.0   \n",
       "90273                        1034.0                1034.0          2.0   \n",
       "\n",
       "       heatingorsystemtypeid    longitude  lotsizesquarefeet  \\\n",
       "0                        2.0 -118488536.0             7528.0   \n",
       "2                        2.0 -118175032.0            11423.0   \n",
       "3                        2.0 -118309000.0            70859.0   \n",
       "5                        2.0 -118402768.0             2708.0   \n",
       "17                       2.0 -118123000.0           147471.0   \n",
       "...                      ...          ...                ...   \n",
       "90262                    2.0 -118455969.0             7311.0   \n",
       "90264                    2.0 -118695925.0           156910.0   \n",
       "90269                    2.0 -117875148.0             7594.0   \n",
       "90271                    2.0 -118224849.0             9343.0   \n",
       "90273                    2.0 -118367000.0            20033.0   \n",
       "\n",
       "       propertylandusetypeid  ...  regionidzip  roomcnt  unitcnt  yearbuilt  \\\n",
       "0                      261.0  ...      96370.0      0.0      1.0     1959.0   \n",
       "2                      261.0  ...      96293.0      0.0      1.0     1940.0   \n",
       "3                      266.0  ...      96222.0      0.0      1.0     1987.0   \n",
       "5                      261.0  ...      96109.0      0.0      1.0     1982.0   \n",
       "17                     266.0  ...      96238.0      0.0      1.0     1970.0   \n",
       "...                      ...  ...          ...      ...      ...        ...   \n",
       "90262                  261.0  ...      96368.0      0.0      1.0     1966.0   \n",
       "90264                  266.0  ...      96116.0      0.0      1.0     2004.0   \n",
       "90269                  261.0  ...      96473.0      0.0      1.0     1959.0   \n",
       "90271                  261.0  ...      96327.0      0.0      1.0     1965.0   \n",
       "90273                  266.0  ...      96133.0      0.0      1.0     1981.0   \n",
       "\n",
       "       structuretaxvaluedollarcnt  taxvaluedollarcnt  assessmentyear  \\\n",
       "0                        122754.0           360170.0          2015.0   \n",
       "2                         61994.0           119906.0          2015.0   \n",
       "3                        171518.0           244880.0          2015.0   \n",
       "5                        880650.0          2447951.0          2015.0   \n",
       "17                        56233.0            70316.0          2015.0   \n",
       "...                           ...                ...             ...   \n",
       "90262                    140984.0           297456.0          2015.0   \n",
       "90264                    532796.0          1331992.0          2015.0   \n",
       "90269                    141700.0           405000.0          2015.0   \n",
       "90271                    117893.0           161111.0          2015.0   \n",
       "90273                    132991.0           165869.0          2015.0   \n",
       "\n",
       "       landtaxvaluedollarcnt  taxamount  censustractandblock  \n",
       "0                   237416.0    6735.88         6.037107e+13  \n",
       "2                    57912.0   11484.48         6.037464e+13  \n",
       "3                    73362.0    3048.74         6.037296e+13  \n",
       "5                  1567301.0   27126.57         6.037621e+13  \n",
       "17                   14083.0     913.17         6.037575e+13  \n",
       "...                      ...        ...                  ...  \n",
       "90262               156472.0    3738.38         6.037107e+13  \n",
       "90264               799196.0   18297.87         6.037801e+13  \n",
       "90269               263300.0    5311.03         6.037404e+13  \n",
       "90271                43218.0    1886.54         6.037301e+13  \n",
       "90273                32878.0    2285.57         6.037601e+13  \n",
       "\n",
       "[25824 rows x 23 columns]"
      ]
     },
     "execution_count": 33,
     "metadata": {},
     "output_type": "execute_result"
    }
   ],
   "source": [
    "test_data"
   ]
  },
  {
   "cell_type": "code",
   "execution_count": 34,
   "id": "d2946d1e",
   "metadata": {},
   "outputs": [],
   "source": [
    "final_train_x = train_data[['buildingqualitytypeid', 'calculatedbathnbr',\n",
    "       'calculatedfinishedsquarefeet', 'finishedsquarefeet12',\n",
    "       'fullbathcnt', 'heatingorsystemtypeid', 'longitude',\n",
    "       'lotsizesquarefeet', 'propertylandusetypeid', 'rawcensustractandblock',\n",
    "       'regionidcity', 'regionidcounty', 'regionidzip', 'roomcnt', 'unitcnt',\n",
    "       'yearbuilt', 'structuretaxvaluedollarcnt', 'taxvaluedollarcnt',\n",
    "       'assessmentyear', 'landtaxvaluedollarcnt', 'taxamount',\n",
    "       'censustractandblock']]"
   ]
  },
  {
   "cell_type": "code",
   "execution_count": 35,
   "id": "f9778e4e",
   "metadata": {},
   "outputs": [],
   "source": [
    "final_train_y = train_data['logerror']"
   ]
  },
  {
   "cell_type": "markdown",
   "id": "904c4148",
   "metadata": {},
   "source": [
    "Model1: Linear Regression"
   ]
  },
  {
   "cell_type": "code",
   "execution_count": 70,
   "id": "c136f323",
   "metadata": {},
   "outputs": [],
   "source": [
    "from sklearn.linear_model import LinearRegression\n",
    "lr = LinearRegression()"
   ]
  },
  {
   "cell_type": "code",
   "execution_count": 71,
   "id": "8576a0d4",
   "metadata": {},
   "outputs": [
    {
     "data": {
      "text/plain": [
       "LinearRegression()"
      ]
     },
     "execution_count": 71,
     "metadata": {},
     "output_type": "execute_result"
    }
   ],
   "source": [
    "lr.fit(final_train_x,final_train_y)"
   ]
  },
  {
   "cell_type": "markdown",
   "id": "6140dc60",
   "metadata": {},
   "source": [
    "Model2: Random Forest "
   ]
  },
  {
   "cell_type": "code",
   "execution_count": 72,
   "id": "ca9340e0",
   "metadata": {},
   "outputs": [],
   "source": [
    "from sklearn.ensemble import RandomForestRegressor"
   ]
  },
  {
   "cell_type": "code",
   "execution_count": 264,
   "id": "2db82dfb",
   "metadata": {},
   "outputs": [],
   "source": [
    "rf =  RandomForestRegressor(max_depth=5)"
   ]
  },
  {
   "cell_type": "code",
   "execution_count": 265,
   "id": "260c0000",
   "metadata": {},
   "outputs": [
    {
     "data": {
      "text/plain": [
       "RandomForestRegressor(max_depth=5)"
      ]
     },
     "execution_count": 265,
     "metadata": {},
     "output_type": "execute_result"
    }
   ],
   "source": [
    "rf.fit(final_train_x,final_train_y)"
   ]
  },
  {
   "cell_type": "markdown",
   "id": "72aa94d6",
   "metadata": {},
   "source": [
    "Model3: Extra Tree Regressor"
   ]
  },
  {
   "cell_type": "code",
   "execution_count": 266,
   "id": "2c475620",
   "metadata": {},
   "outputs": [
    {
     "data": {
      "text/plain": [
       "ExtraTreesRegressor(max_depth=5, max_features=0.2, n_estimators=23)"
      ]
     },
     "execution_count": 266,
     "metadata": {},
     "output_type": "execute_result"
    }
   ],
   "source": [
    "model = ensemble.ExtraTreesRegressor(n_estimators=23, max_depth=5, max_features=0.2)\n",
    "model.fit(final_train_x, final_train_y)"
   ]
  },
  {
   "cell_type": "markdown",
   "id": "2fcb7438",
   "metadata": {},
   "source": [
    "Model 4: Decision Tree Regressor"
   ]
  },
  {
   "cell_type": "code",
   "execution_count": 267,
   "id": "73364547",
   "metadata": {},
   "outputs": [],
   "source": [
    "from sklearn.tree import DecisionTreeRegressor\n",
    "dt = DecisionTreeRegressor()"
   ]
  },
  {
   "cell_type": "code",
   "execution_count": 268,
   "id": "e959b738",
   "metadata": {},
   "outputs": [
    {
     "data": {
      "text/plain": [
       "DecisionTreeRegressor()"
      ]
     },
     "execution_count": 268,
     "metadata": {},
     "output_type": "execute_result"
    }
   ],
   "source": [
    "dt.fit(final_train_x,final_train_y)"
   ]
  },
  {
   "cell_type": "markdown",
   "id": "44759033",
   "metadata": {},
   "source": [
    "## Make prediction."
   ]
  },
  {
   "cell_type": "code",
   "execution_count": 269,
   "id": "a03d188b",
   "metadata": {},
   "outputs": [],
   "source": [
    "test_x = test_data[['buildingqualitytypeid', 'calculatedbathnbr',\n",
    "       'calculatedfinishedsquarefeet', 'finishedsquarefeet12',\n",
    "       'fullbathcnt', 'heatingorsystemtypeid', 'longitude',\n",
    "       'lotsizesquarefeet', 'propertylandusetypeid', 'rawcensustractandblock',\n",
    "       'regionidcity', 'regionidcounty', 'regionidzip', 'roomcnt', 'unitcnt',\n",
    "       'yearbuilt', 'structuretaxvaluedollarcnt', 'taxvaluedollarcnt',\n",
    "       'assessmentyear', 'landtaxvaluedollarcnt', 'taxamount',\n",
    "       'censustractandblock']]"
   ]
  },
  {
   "cell_type": "code",
   "execution_count": 270,
   "id": "f01da27d",
   "metadata": {},
   "outputs": [],
   "source": [
    "test_y = test_data['logerror']"
   ]
  },
  {
   "cell_type": "code",
   "execution_count": 271,
   "id": "5380589a",
   "metadata": {},
   "outputs": [],
   "source": [
    "predictions = lr.predict(test_x)"
   ]
  },
  {
   "cell_type": "code",
   "execution_count": 272,
   "id": "0d384637",
   "metadata": {},
   "outputs": [
    {
     "data": {
      "text/plain": [
       "0.07175025757124547"
      ]
     },
     "execution_count": 272,
     "metadata": {},
     "output_type": "execute_result"
    }
   ],
   "source": [
    "from sklearn.metrics import mean_absolute_error\n",
    "mean_absolute_error(test_y, predictions)"
   ]
  },
  {
   "cell_type": "code",
   "execution_count": 273,
   "id": "0c51c3ae",
   "metadata": {},
   "outputs": [],
   "source": [
    "predictions_2 = rf.predict(test_x)"
   ]
  },
  {
   "cell_type": "code",
   "execution_count": 274,
   "id": "f4fd1fc2",
   "metadata": {},
   "outputs": [
    {
     "data": {
      "text/plain": [
       "0.07195792700807827"
      ]
     },
     "execution_count": 274,
     "metadata": {},
     "output_type": "execute_result"
    }
   ],
   "source": [
    "mean_absolute_error(test_y, predictions_2)"
   ]
  },
  {
   "cell_type": "code",
   "execution_count": 275,
   "id": "964f0609",
   "metadata": {},
   "outputs": [],
   "source": [
    "predictions_3 = model.predict(test_x)"
   ]
  },
  {
   "cell_type": "code",
   "execution_count": 276,
   "id": "64bc2a0f",
   "metadata": {},
   "outputs": [
    {
     "data": {
      "text/plain": [
       "0.07167073463226066"
      ]
     },
     "execution_count": 276,
     "metadata": {},
     "output_type": "execute_result"
    }
   ],
   "source": [
    "mean_absolute_error(test_y, predictions_3)"
   ]
  },
  {
   "cell_type": "code",
   "execution_count": 277,
   "id": "2c4798d9",
   "metadata": {},
   "outputs": [],
   "source": [
    "predictions_4 = dt.predict(test_x)"
   ]
  },
  {
   "cell_type": "code",
   "execution_count": 278,
   "id": "3aa930e4",
   "metadata": {},
   "outputs": [
    {
     "data": {
      "text/plain": [
       "0.11434878794919456"
      ]
     },
     "execution_count": 278,
     "metadata": {},
     "output_type": "execute_result"
    }
   ],
   "source": [
    "mean_absolute_error(test_y, predictions_4)"
   ]
  },
  {
   "cell_type": "markdown",
   "id": "358cc2de",
   "metadata": {},
   "source": [
    "### Save the Best model with lowest MAE"
   ]
  },
  {
   "cell_type": "code",
   "execution_count": 279,
   "id": "17db97de",
   "metadata": {},
   "outputs": [],
   "source": [
    "import pickle\n",
    " \n",
    "#Write to local \n",
    "with open('best.model', 'wb') as files:\n",
    "    pickle.dump(model, files)"
   ]
  },
  {
   "cell_type": "code",
   "execution_count": null,
   "id": "1bc09e54",
   "metadata": {},
   "outputs": [],
   "source": []
  }
 ],
 "metadata": {
  "kernelspec": {
   "display_name": "Python 3",
   "language": "python",
   "name": "python3"
  },
  "language_info": {
   "codemirror_mode": {
    "name": "ipython",
    "version": 3
   },
   "file_extension": ".py",
   "mimetype": "text/x-python",
   "name": "python",
   "nbconvert_exporter": "python",
   "pygments_lexer": "ipython3",
   "version": "3.8.8"
  }
 },
 "nbformat": 4,
 "nbformat_minor": 5
}
